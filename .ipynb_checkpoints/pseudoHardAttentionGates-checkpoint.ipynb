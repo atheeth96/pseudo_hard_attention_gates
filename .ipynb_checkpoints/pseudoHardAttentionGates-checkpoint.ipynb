{
 "cells": [
  {
   "cell_type": "code",
   "execution_count": 1,
   "metadata": {},
   "outputs": [
    {
     "name": "stdout",
     "output_type": "stream",
     "text": [
      "The history saving thread hit an unexpected error (DatabaseError('database disk image is malformed',)).History will not be written to the database.\n"
     ]
    }
   ],
   "source": [
    "import numpy as np\n",
    "import os\n",
    "import matplotlib.pyplot as plt\n",
    "import imutils\n",
    "import pandas as pd\n",
    "import datetime\n",
    "from PIL import Image\n",
    "Image.MAX_IMAGE_PIXELS = None\n",
    "from sklearn import metrics\n",
    "from sklearn.utils import shuffle\n",
    "from skimage import draw\n",
    "from skimage.io import imread,imsave\n",
    "from skimage.filters import threshold_otsu\n",
    "from sklearn.model_selection import train_test_split\n",
    "from skimage.util import pad\n",
    "import skimage\n",
    "import time\n",
    "import tqdm\n",
    "import math\n",
    "from DatasetCreator import create_data_vahadane\n",
    "from tqdm import tqdm_notebook as tqdm \n",
    "from PatchExtractor import PatchExtractor\n",
    "from Dataset import DataSet,Scale,ToTensor,visualize_loader\n",
    "\n",
    "import warnings\n",
    "warnings.filterwarnings('ignore')\n",
    "\n",
    "from Models import DualEncoding_U_Net, save_model,load_model, dice_metric,init_weights\n",
    "import torch\n",
    "import torchvision\n",
    "import torch.nn as nn\n",
    "from torch.utils.data import DataLoader\n",
    "from torch.utils.tensorboard import SummaryWriter\n",
    "import torch.nn.functional as F\n",
    "if not os.path.exists('processed_data'):\n",
    "    os.mkdir('processed_data')\n",
    "    \n",
    "import pickle\n"
   ]
  },
  {
   "cell_type": "code",
   "execution_count": 2,
   "metadata": {},
   "outputs": [],
   "source": [
    "\n",
    "png_dir='norm_ideal'\n",
    "annotation_dir='Annotations'\n",
    "nucleus_dir='processed_data/nucleus_maps'\n",
    "boundary_dir='processed_data/boundary_maps'\n",
    "# create_data_vahadane(png_dir,annotation_dir,nucleus_dir,boundary_dir)\n"
   ]
  },
  {
   "cell_type": "markdown",
   "metadata": {},
   "source": [
    "# TRAIN\n",
    "\n",
    "TCGA-G9-6348-01Z-00-DX1.png<br/>\n",
    "TCGA-E2-A1B5-01Z-00-DX1.png<br/>\n",
    "TCGA-CH-5767-01Z-00-DX1.png<br/>\n",
    "TCGA-B0-5698-01Z-00-DX1.png<br/>\n",
    "TCGA-E2-A14V-01Z-00-DX1.png<br/>\n",
    "TCGA-AR-A1AK-01Z-00-DX1.png<br/>\n",
    "TCGA-NH-A8F7-01A-01-TS1.png<br/>\n",
    "TCGA-21-5784-01Z-00-DX1.png<br/>\n",
    "TCGA-HE-7130-01Z-00-DX1.png<br/>\n",
    "TCGA-A7-A13F-01Z-00-DX1.png<br/>\n",
    "TCGA-AR-A1AS-01Z-00-DX1.png<br/>\n",
    "TCGA-50-5931-01Z-00-DX1.png<br/>\n",
    "TCGA-HE-7129-01Z-00-DX1.png<br/>\n",
    "TCGA-38-6178-01Z-00-DX1.png<br/>\n",
    "TCGA-G9-6362-01Z-00-DX1.png<br/>\n",
    "TCGA-G9-6336-01Z-00-DX1.png<br/>\n",
    "TCGA-A7-A13E-01Z-00-DX1.png<br/>\n",
    "TCGA-B0-5711-01Z-00-DX1.png<br/>\n",
    "TCGA-49-4488-01Z-00-DX1.png<br/>\n",
    "TCGA-RD-A8N9-01A-01-TS1.png<br/>\n",
    "TCGA-G9-6363-01Z-00-DX1.png<br/>\n",
    "TCGA-21-5786-01Z-00-DX1.png<br/>\n",
    "TCGA-G2-A2EK-01A-02-TSB.png<br/>\n",
    "TCGA-DK-A2I6-01A-01-TS1.png<br/>\n",
    "TCGA-HE-7128-01Z-00-DX1.png\n",
    "\n",
    "# TEST\n",
    "\n",
    "TCGA-G9-6356-01Z-00-DX1.png<br/>\n",
    "TCGA-18-5592-01Z-00-DX1.png<br/>\n",
    "TCGA-KB-A93J-01A-01-TS1.png<br/>\n",
    "TCGA-AY-A8YK-01A-01-TS1.png<br/>\n",
    "TCGA-B0-5710-01Z-00-DX1.png"
   ]
  },
  {
   "cell_type": "code",
   "execution_count": 3,
   "metadata": {},
   "outputs": [],
   "source": [
    "train_list=['TCGA-G9-6348-01Z-00-DX1.png',\\\n",
    "'TCGA-E2-A1B5-01Z-00-DX1.png',\\\n",
    "'TCGA-CH-5767-01Z-00-DX1.png',\\\n",
    "'TCGA-B0-5698-01Z-00-DX1.png',\\\n",
    "'TCGA-E2-A14V-01Z-00-DX1.png',\\\n",
    "'TCGA-AR-A1AK-01Z-00-DX1.png',\\\n",
    "'TCGA-NH-A8F7-01A-01-TS1.png',\\\n",
    "'TCGA-21-5784-01Z-00-DX1.png',\\\n",
    "'TCGA-HE-7130-01Z-00-DX1.png',\\\n",
    "'TCGA-A7-A13F-01Z-00-DX1.png',\\\n",
    "'TCGA-AR-A1AS-01Z-00-DX1.png',\\\n",
    "'TCGA-50-5931-01Z-00-DX1.png',\\\n",
    "'TCGA-HE-7129-01Z-00-DX1.png',\\\n",
    "'TCGA-38-6178-01Z-00-DX1.png',\\\n",
    "'TCGA-G9-6362-01Z-00-DX1.png',\\\n",
    "'TCGA-G9-6336-01Z-00-DX1.png',\\\n",
    "'TCGA-A7-A13E-01Z-00-DX1.png',\\\n",
    "'TCGA-B0-5711-01Z-00-DX1.png',\\\n",
    "'TCGA-49-4488-01Z-00-DX1.png',\\\n",
    "'TCGA-RD-A8N9-01A-01-TS1.png',\\\n",
    "'TCGA-G9-6363-01Z-00-DX1.png',\\\n",
    "'TCGA-21-5786-01Z-00-DX1.png',\\\n",
    "'TCGA-G2-A2EK-01A-02-TSB.png',\\\n",
    "'TCGA-DK-A2I6-01A-01-TS1.png',\\\n",
    "'TCGA-HE-7128-01Z-00-DX1.png']\n",
    "\n",
    "test_list=['TCGA-G9-6356-01Z-00-DX1.png',\\\n",
    "'TCGA-18-5592-01Z-00-DX1.png',\\\n",
    "'TCGA-KB-A93J-01A-01-TS1.png',\\\n",
    "'TCGA-AY-A8YK-01A-01-TS1.png',\\\n",
    "'TCGA-B0-5710-01Z-00-DX1.png']"
   ]
  },
  {
   "cell_type": "code",
   "execution_count": 4,
   "metadata": {},
   "outputs": [],
   "source": [
    "h_e_train_dir='processed_data/h_e_train_dir'\n",
    "h_train_dir='processed_data/h_train_dir'\n",
    "nuclei_mask_train_dir='processed_data/nuclei_mask_train_dir'\n",
    "boundary_mask_train_dir='processed_data/boundary_mask_train_dir'\n",
    "if not os.path.exists(h_e_train_dir):\n",
    "    os.mkdir(h_e_train_dir)\n",
    "if not os.path.exists(h_train_dir):\n",
    "    os.mkdir(h_train_dir)\n",
    "if not os.path.exists(nuclei_mask_train_dir):\n",
    "    os.mkdir(nuclei_mask_train_dir)\n",
    "if not os.path.exists(boundary_mask_train_dir):\n",
    "    os.mkdir(boundary_mask_train_dir)\n",
    "# for img in tqdm(train_list):\n",
    "#     nuclei=img.split('.')[0]+'_nucleus_mask.png'\n",
    "#     boundary=img.split('.')[0]+'_boundary_mask.png'\n",
    "#     os.system(\"cp {} {}\".format(os.path.join('norm_ideal',img),os.path.join(h_e_train_dir,img)))\n",
    "#     os.system(\"cp {} {}\".format(os.path.join('H_gray',img),os.path.join(h_train_dir,img)))\n",
    "#     os.system(\"cp {} {}\".format(os.path.join('processed_data/nucleus_maps',nuclei),os.path.join(nuclei_mask_train_dir,nuclei)))\n",
    "#     os.system(\"cp {} {}\".format(os.path.join('processed_data/boundary_maps',boundary)\\\n",
    "#                                 ,os.path.join(boundary_mask_train_dir,boundary)))\n",
    "    \n",
    "    "
   ]
  },
  {
   "cell_type": "code",
   "execution_count": 5,
   "metadata": {},
   "outputs": [],
   "source": [
    "h_e_test_dir='processed_data/h_e_test_dir'\n",
    "h_test_dir='processed_data/h_test_dir'\n",
    "nuclei_mask_test_dir='processed_data/nuclei_mask_test_dir'\n",
    "boundary_mask_test_dir='processed_data/boundary_mask_test_dir'\n",
    "if not os.path.exists(h_e_test_dir):\n",
    "    os.mkdir(h_e_test_dir)\n",
    "if not os.path.exists(h_test_dir):\n",
    "    os.mkdir(h_test_dir)\n",
    "if not os.path.exists(nuclei_mask_test_dir):\n",
    "    os.mkdir(nuclei_mask_test_dir)\n",
    "if not os.path.exists(boundary_mask_test_dir):\n",
    "    os.mkdir(boundary_mask_test_dir)\n",
    "\n",
    "# for img in tqdm(test_list):\n",
    "#     nuclei=img.split('.')[0]+'_nucleus_mask.png'\n",
    "#     boundary=img.split('.')[0]+'_boundary_mask.png'\n",
    "#     os.system(\"cp {} {}\".format(os.path.join('norm_ideal',img),os.path.join(h_e_test_dir,img)))\n",
    "#     os.system(\"cp {} {}\".format(os.path.join('H_gray',img),os.path.join(h_test_dir,img)))\n",
    "#     os.system(\"cp {} {}\".format(os.path.join('processed_data/nucleus_maps',nuclei),os.path.join(nuclei_mask_test_dir,nuclei)))\n",
    "#     os.system(\"cp {} {}\".format(os.path.join('processed_data/boundary_maps',boundary)\\\n",
    "#                                 ,os.path.join(boundary_mask_test_dir,boundary)))\n",
    "    \n",
    "    "
   ]
  },
  {
   "cell_type": "code",
   "execution_count": 6,
   "metadata": {},
   "outputs": [],
   "source": [
    "h_e_train_patch_dir='processed_data/h_e_train_patch_dir'\n",
    "h_train_patch_dir='processed_data/h_train_patch_dir'\n",
    "nuclei_mask_train_patch_dir='processed_data/nuclei_mask_train_patch_dir'\n",
    "boundary_mask_train_patch_dir='processed_data/boundary_mask_train_patch_dir'\n",
    "\n",
    "# train_extractor=PatchExtractor(h_e_train_dir,h_train_dir,nuclei_mask_train_dir\\\n",
    "#                  ,boundary_mask_train_dir,h_e_train_patch_dir,h_train_patch_dir,\\\n",
    "#                  nuclei_mask_train_patch_dir,boundary_mask_train_patch_dir,gray=True,progress_bar=True)\n",
    "# train_extractor.extract_patches(patch_size=128,step=64)"
   ]
  },
  {
   "cell_type": "code",
   "execution_count": 7,
   "metadata": {},
   "outputs": [],
   "source": [
    "h_e_test_patch_dir='processed_data/h_e_test_patch_dir'\n",
    "h_test_patch_dir='processed_data/h_test_patch_dir'\n",
    "nuclei_mask_test_patch_dir='processed_data/nuclei_mask_test_patch_dir'\n",
    "boundary_mask_test_patch_dir='processed_data/boundary_mask_test_patch_dir'\n",
    "\n",
    "# test_extractor=PatchExtractor(h_e_test_dir,h_test_dir,nuclei_mask_test_dir\\\n",
    "#                  ,boundary_mask_test_dir,h_e_test_patch_dir,h_test_patch_dir,\\\n",
    "#                  nuclei_mask_test_patch_dir,boundary_mask_test_patch_dir,gray=True,progress_bar=True)\n",
    "# test_extractor.extract_patches(patch_size=128,step=64)"
   ]
  },
  {
   "cell_type": "code",
   "execution_count": 8,
   "metadata": {},
   "outputs": [
    {
     "name": "stdout",
     "output_type": "stream",
     "text": [
      "1407\n",
      "282\n"
     ]
    },
    {
     "data": {
      "image/png": "[encoded data removed]",
      "text/plain": [
       "<Figure size 432x288 with 1 Axes>"
      ]
     },
     "metadata": {
      "needs_background": "light"
     },
     "output_type": "display_data"
    },
    {
     "data": {
      "image/png": "[encoded data removed]",
      "text/plain": [
       "<Figure size 432x288 with 1 Axes>"
      ]
     },
     "metadata": {
      "needs_background": "light"
     },
     "output_type": "display_data"
    },
    {
     "data": {
      "image/png": "[encoded data removed]",
      "text/plain": [
       "<Figure size 432x288 with 1 Axes>"
      ]
     },
     "metadata": {
      "needs_background": "light"
     },
     "output_type": "display_data"
    },
    {
     "data": {
      "image/png": "[encoded data removed]",
      "text/plain": [
       "<Figure size 432x288 with 1 Axes>"
      ]
     },
     "metadata": {
      "needs_background": "light"
     },
     "output_type": "display_data"
    }
   ],
   "source": [
    "batch_size_train=4\n",
    "batch_size_test=4\n",
    "transform=torchvision.transforms.Compose([Scale(),ToTensor()])\n",
    "train_dataset=DataSet(h_e_train_patch_dir,h_train_patch_dir\\\n",
    "                      ,nuclei_mask_train_patch_dir, boundary_mask_train_patch_dir\\\n",
    "                      ,transform=transform,attn_gray=True)\n",
    "train_loader=DataLoader(train_dataset,batch_size=batch_size_train,shuffle=True)\n",
    "test_dataset=DataSet(h_e_test_patch_dir,h_test_patch_dir\\\n",
    "                      ,nuclei_mask_test_patch_dir, boundary_mask_test_patch_dir\\\n",
    "                      ,transform=transform,attn_gray=True)\n",
    "test_loader=DataLoader(test_dataset,batch_size=batch_size_test,shuffle=False)\n",
    "\n",
    "print(train_loader.__len__())\n",
    "print(test_loader.__len__())\n",
    "visualize_loader(test_loader,1)"
   ]
  },
  {
   "cell_type": "code",
   "execution_count": 9,
   "metadata": {},
   "outputs": [
    {
     "name": "stdout",
     "output_type": "stream",
     "text": [
      "/datalab/training-assets/R_medical/atheeth/nuclei_seg/model_2020_01_16 dir has been made\n",
      "Model's state_dict:\n",
      "Conv1_encoding_1.conv.0.weight \t torch.Size([64, 3, 3, 3])\n",
      "Conv1_encoding_1.conv.0.bias \t torch.Size([64])\n",
      "Conv1_encoding_1.conv.1.weight \t torch.Size([64])\n",
      "Conv1_encoding_1.conv.1.bias \t torch.Size([64])\n",
      "Conv1_encoding_1.conv.1.running_mean \t torch.Size([64])\n",
      "Conv1_encoding_1.conv.1.running_var \t torch.Size([64])\n",
      "Conv1_encoding_1.conv.1.num_batches_tracked \t torch.Size([])\n",
      "Conv1_encoding_1.conv.3.weight \t torch.Size([64, 64, 3, 3])\n",
      "Conv1_encoding_1.conv.3.bias \t torch.Size([64])\n",
      "Conv1_encoding_1.conv.4.weight \t torch.Size([64])\n",
      "Conv1_encoding_1.conv.4.bias \t torch.Size([64])\n",
      "Conv1_encoding_1.conv.4.running_mean \t torch.Size([64])\n",
      "Conv1_encoding_1.conv.4.running_var \t torch.Size([64])\n",
      "Conv1_encoding_1.conv.4.num_batches_tracked \t torch.Size([])\n",
      "Conv2_encoding_1.conv.0.weight \t torch.Size([128, 64, 3, 3])\n",
      "Conv2_encoding_1.conv.0.bias \t torch.Size([128])\n",
      "Conv2_encoding_1.conv.1.weight \t torch.Size([128])\n",
      "Conv2_encoding_1.conv.1.bias \t torch.Size([128])\n",
      "Conv2_encoding_1.conv.1.running_mean \t torch.Size([128])\n",
      "Conv2_encoding_1.conv.1.running_var \t torch.Size([128])\n",
      "Conv2_encoding_1.conv.1.num_batches_tracked \t torch.Size([])\n",
      "Conv2_encoding_1.conv.3.weight \t torch.Size([128, 128, 3, 3])\n",
      "Conv2_encoding_1.conv.3.bias \t torch.Size([128])\n",
      "Conv2_encoding_1.conv.4.weight \t torch.Size([128])\n",
      "Conv2_encoding_1.conv.4.bias \t torch.Size([128])\n",
      "Conv2_encoding_1.conv.4.running_mean \t torch.Size([128])\n",
      "Conv2_encoding_1.conv.4.running_var \t torch.Size([128])\n",
      "Conv2_encoding_1.conv.4.num_batches_tracked \t torch.Size([])\n",
      "Conv3_encoding_1.conv.0.weight \t torch.Size([256, 128, 3, 3])\n",
      "Conv3_encoding_1.conv.0.bias \t torch.Size([256])\n",
      "Conv3_encoding_1.conv.1.weight \t torch.Size([256])\n",
      "Conv3_encoding_1.conv.1.bias \t torch.Size([256])\n",
      "Conv3_encoding_1.conv.1.running_mean \t torch.Size([256])\n",
      "Conv3_encoding_1.conv.1.running_var \t torch.Size([256])\n",
      "Conv3_encoding_1.conv.1.num_batches_tracked \t torch.Size([])\n",
      "Conv3_encoding_1.conv.3.weight \t torch.Size([256, 256, 3, 3])\n",
      "Conv3_encoding_1.conv.3.bias \t torch.Size([256])\n",
      "Conv3_encoding_1.conv.4.weight \t torch.Size([256])\n",
      "Conv3_encoding_1.conv.4.bias \t torch.Size([256])\n",
      "Conv3_encoding_1.conv.4.running_mean \t torch.Size([256])\n",
      "Conv3_encoding_1.conv.4.running_var \t torch.Size([256])\n",
      "Conv3_encoding_1.conv.4.num_batches_tracked \t torch.Size([])\n",
      "Conv4_encoding_1.conv.0.weight \t torch.Size([512, 256, 3, 3])\n",
      "Conv4_encoding_1.conv.0.bias \t torch.Size([512])\n",
      "Conv4_encoding_1.conv.1.weight \t torch.Size([512])\n",
      "Conv4_encoding_1.conv.1.bias \t torch.Size([512])\n",
      "Conv4_encoding_1.conv.1.running_mean \t torch.Size([512])\n",
      "Conv4_encoding_1.conv.1.running_var \t torch.Size([512])\n",
      "Conv4_encoding_1.conv.1.num_batches_tracked \t torch.Size([])\n",
      "Conv4_encoding_1.conv.3.weight \t torch.Size([512, 512, 3, 3])\n",
      "Conv4_encoding_1.conv.3.bias \t torch.Size([512])\n",
      "Conv4_encoding_1.conv.4.weight \t torch.Size([512])\n",
      "Conv4_encoding_1.conv.4.bias \t torch.Size([512])\n",
      "Conv4_encoding_1.conv.4.running_mean \t torch.Size([512])\n",
      "Conv4_encoding_1.conv.4.running_var \t torch.Size([512])\n",
      "Conv4_encoding_1.conv.4.num_batches_tracked \t torch.Size([])\n",
      "Conv5_encoding_1.conv.0.weight \t torch.Size([1024, 512, 3, 3])\n",
      "Conv5_encoding_1.conv.0.bias \t torch.Size([1024])\n",
      "Conv5_encoding_1.conv.1.weight \t torch.Size([1024])\n",
      "Conv5_encoding_1.conv.1.bias \t torch.Size([1024])\n",
      "Conv5_encoding_1.conv.1.running_mean \t torch.Size([1024])\n",
      "Conv5_encoding_1.conv.1.running_var \t torch.Size([1024])\n",
      "Conv5_encoding_1.conv.1.num_batches_tracked \t torch.Size([])\n",
      "Conv5_encoding_1.conv.3.weight \t torch.Size([1024, 1024, 3, 3])\n",
      "Conv5_encoding_1.conv.3.bias \t torch.Size([1024])\n",
      "Conv5_encoding_1.conv.4.weight \t torch.Size([1024])\n",
      "Conv5_encoding_1.conv.4.bias \t torch.Size([1024])\n",
      "Conv5_encoding_1.conv.4.running_mean \t torch.Size([1024])\n",
      "Conv5_encoding_1.conv.4.running_var \t torch.Size([1024])\n",
      "Conv5_encoding_1.conv.4.num_batches_tracked \t torch.Size([])\n",
      "Conv1_encoding_2.conv.0.weight \t torch.Size([64, 1, 3, 3])\n",
      "Conv1_encoding_2.conv.0.bias \t torch.Size([64])\n",
      "Conv1_encoding_2.conv.1.weight \t torch.Size([64])\n",
      "Conv1_encoding_2.conv.1.bias \t torch.Size([64])\n",
      "Conv1_encoding_2.conv.1.running_mean \t torch.Size([64])\n",
      "Conv1_encoding_2.conv.1.running_var \t torch.Size([64])\n",
      "Conv1_encoding_2.conv.1.num_batches_tracked \t torch.Size([])\n",
      "Conv1_encoding_2.conv.3.weight \t torch.Size([64, 64, 3, 3])\n",
      "Conv1_encoding_2.conv.3.bias \t torch.Size([64])\n",
      "Conv1_encoding_2.conv.4.weight \t torch.Size([64])\n",
      "Conv1_encoding_2.conv.4.bias \t torch.Size([64])\n",
      "Conv1_encoding_2.conv.4.running_mean \t torch.Size([64])\n",
      "Conv1_encoding_2.conv.4.running_var \t torch.Size([64])\n",
      "Conv1_encoding_2.conv.4.num_batches_tracked \t torch.Size([])\n",
      "Conv2_encoding_2.conv.0.weight \t torch.Size([128, 64, 3, 3])\n",
      "Conv2_encoding_2.conv.0.bias \t torch.Size([128])\n",
      "Conv2_encoding_2.conv.1.weight \t torch.Size([128])\n",
      "Conv2_encoding_2.conv.1.bias \t torch.Size([128])\n",
      "Conv2_encoding_2.conv.1.running_mean \t torch.Size([128])\n",
      "Conv2_encoding_2.conv.1.running_var \t torch.Size([128])\n",
      "Conv2_encoding_2.conv.1.num_batches_tracked \t torch.Size([])\n",
      "Conv2_encoding_2.conv.3.weight \t torch.Size([128, 128, 3, 3])\n",
      "Conv2_encoding_2.conv.3.bias \t torch.Size([128])\n",
      "Conv2_encoding_2.conv.4.weight \t torch.Size([128])\n",
      "Conv2_encoding_2.conv.4.bias \t torch.Size([128])\n",
      "Conv2_encoding_2.conv.4.running_mean \t torch.Size([128])\n",
      "Conv2_encoding_2.conv.4.running_var \t torch.Size([128])\n",
      "Conv2_encoding_2.conv.4.num_batches_tracked \t torch.Size([])\n",
      "Conv3_encoding_2.conv.0.weight \t torch.Size([256, 128, 3, 3])\n",
      "Conv3_encoding_2.conv.0.bias \t torch.Size([256])\n",
      "Conv3_encoding_2.conv.1.weight \t torch.Size([256])\n",
      "Conv3_encoding_2.conv.1.bias \t torch.Size([256])\n",
      "Conv3_encoding_2.conv.1.running_mean \t torch.Size([256])\n",
      "Conv3_encoding_2.conv.1.running_var \t torch.Size([256])\n",
      "Conv3_encoding_2.conv.1.num_batches_tracked \t torch.Size([])\n",
      "Conv3_encoding_2.conv.3.weight \t torch.Size([256, 256, 3, 3])\n",
      "Conv3_encoding_2.conv.3.bias \t torch.Size([256])\n",
      "Conv3_encoding_2.conv.4.weight \t torch.Size([256])\n",
      "Conv3_encoding_2.conv.4.bias \t torch.Size([256])\n",
      "Conv3_encoding_2.conv.4.running_mean \t torch.Size([256])\n",
      "Conv3_encoding_2.conv.4.running_var \t torch.Size([256])\n",
      "Conv3_encoding_2.conv.4.num_batches_tracked \t torch.Size([])\n",
      "Conv4_encoding_2.conv.0.weight \t torch.Size([512, 256, 3, 3])\n",
      "Conv4_encoding_2.conv.0.bias \t torch.Size([512])\n",
      "Conv4_encoding_2.conv.1.weight \t torch.Size([512])\n",
      "Conv4_encoding_2.conv.1.bias \t torch.Size([512])\n",
      "Conv4_encoding_2.conv.1.running_mean \t torch.Size([512])\n",
      "Conv4_encoding_2.conv.1.running_var \t torch.Size([512])\n",
      "Conv4_encoding_2.conv.1.num_batches_tracked \t torch.Size([])\n",
      "Conv4_encoding_2.conv.3.weight \t torch.Size([512, 512, 3, 3])\n",
      "Conv4_encoding_2.conv.3.bias \t torch.Size([512])\n",
      "Conv4_encoding_2.conv.4.weight \t torch.Size([512])\n",
      "Conv4_encoding_2.conv.4.bias \t torch.Size([512])\n",
      "Conv4_encoding_2.conv.4.running_mean \t torch.Size([512])\n",
      "Conv4_encoding_2.conv.4.running_var \t torch.Size([512])\n",
      "Conv4_encoding_2.conv.4.num_batches_tracked \t torch.Size([])\n",
      "asm4.W_1x1.weight \t torch.Size([64, 128, 1, 1])\n",
      "asm4.W_1x1.bias \t torch.Size([64])\n",
      "asm4.batch_norm.weight \t torch.Size([64])\n",
      "asm4.batch_norm.bias \t torch.Size([64])\n",
      "asm4.batch_norm.running_mean \t torch.Size([64])\n",
      "asm4.batch_norm.running_var \t torch.Size([64])\n",
      "asm4.batch_norm.num_batches_tracked \t torch.Size([])\n",
      "asm3.W_1x1.weight \t torch.Size([128, 256, 1, 1])\n",
      "asm3.W_1x1.bias \t torch.Size([128])\n",
      "asm3.batch_norm.weight \t torch.Size([128])\n",
      "asm3.batch_norm.bias \t torch.Size([128])\n",
      "asm3.batch_norm.running_mean \t torch.Size([128])\n",
      "asm3.batch_norm.running_var \t torch.Size([128])\n",
      "asm3.batch_norm.num_batches_tracked \t torch.Size([])\n",
      "asm2.W_1x1.weight \t torch.Size([256, 512, 1, 1])\n",
      "asm2.W_1x1.bias \t torch.Size([256])\n",
      "asm2.batch_norm.weight \t torch.Size([256])\n",
      "asm2.batch_norm.bias \t torch.Size([256])\n",
      "asm2.batch_norm.running_mean \t torch.Size([256])\n",
      "asm2.batch_norm.running_var \t torch.Size([256])\n",
      "asm2.batch_norm.num_batches_tracked \t torch.Size([])\n",
      "asm1.W_1x1.weight \t torch.Size([512, 1024, 1, 1])\n",
      "asm1.W_1x1.bias \t torch.Size([512])\n",
      "asm1.batch_norm.weight \t torch.Size([512])\n",
      "asm1.batch_norm.bias \t torch.Size([512])\n",
      "asm1.batch_norm.running_mean \t torch.Size([512])\n",
      "asm1.batch_norm.running_var \t torch.Size([512])\n",
      "asm1.batch_norm.num_batches_tracked \t torch.Size([])\n",
      "Up5.up.1.weight \t torch.Size([512, 1024, 3, 3])\n",
      "Up5.up.1.bias \t torch.Size([512])\n",
      "Up5.up.2.weight \t torch.Size([512])\n",
      "Up5.up.2.bias \t torch.Size([512])\n",
      "Up5.up.2.running_mean \t torch.Size([512])\n",
      "Up5.up.2.running_var \t torch.Size([512])\n",
      "Up5.up.2.num_batches_tracked \t torch.Size([])\n",
      "Up_conv5.0.weight \t torch.Size([512, 1024, 1, 1])\n",
      "Up_conv5.0.bias \t torch.Size([512])\n",
      "Up_conv5.1.weight \t torch.Size([512])\n",
      "Up_conv5.1.bias \t torch.Size([512])\n",
      "Up_conv5.1.running_mean \t torch.Size([512])\n",
      "Up_conv5.1.running_var \t torch.Size([512])\n",
      "Up_conv5.1.num_batches_tracked \t torch.Size([])\n",
      "Up4.up.1.weight \t torch.Size([256, 512, 3, 3])\n",
      "Up4.up.1.bias \t torch.Size([256])\n",
      "Up4.up.2.weight \t torch.Size([256])\n",
      "Up4.up.2.bias \t torch.Size([256])\n",
      "Up4.up.2.running_mean \t torch.Size([256])\n",
      "Up4.up.2.running_var \t torch.Size([256])\n",
      "Up4.up.2.num_batches_tracked \t torch.Size([])\n",
      "Up_conv4.0.weight \t torch.Size([256, 512, 1, 1])\n",
      "Up_conv4.0.bias \t torch.Size([256])\n",
      "Up_conv4.1.weight \t torch.Size([256])\n",
      "Up_conv4.1.bias \t torch.Size([256])\n",
      "Up_conv4.1.running_mean \t torch.Size([256])\n",
      "Up_conv4.1.running_var \t torch.Size([256])\n",
      "Up_conv4.1.num_batches_tracked \t torch.Size([])\n",
      "Up3.up.1.weight \t torch.Size([128, 256, 3, 3])\n",
      "Up3.up.1.bias \t torch.Size([128])\n",
      "Up3.up.2.weight \t torch.Size([128])\n",
      "Up3.up.2.bias \t torch.Size([128])\n",
      "Up3.up.2.running_mean \t torch.Size([128])\n",
      "Up3.up.2.running_var \t torch.Size([128])\n",
      "Up3.up.2.num_batches_tracked \t torch.Size([])\n",
      "Up_conv3.0.weight \t torch.Size([128, 256, 1, 1])\n",
      "Up_conv3.0.bias \t torch.Size([128])\n",
      "Up_conv3.1.weight \t torch.Size([128])\n",
      "Up_conv3.1.bias \t torch.Size([128])\n",
      "Up_conv3.1.running_mean \t torch.Size([128])\n",
      "Up_conv3.1.running_var \t torch.Size([128])\n",
      "Up_conv3.1.num_batches_tracked \t torch.Size([])\n",
      "Up2.up.1.weight \t torch.Size([64, 128, 3, 3])\n",
      "Up2.up.1.bias \t torch.Size([64])\n",
      "Up2.up.2.weight \t torch.Size([64])\n",
      "Up2.up.2.bias \t torch.Size([64])\n",
      "Up2.up.2.running_mean \t torch.Size([64])\n",
      "Up2.up.2.running_var \t torch.Size([64])\n",
      "Up2.up.2.num_batches_tracked \t torch.Size([])\n",
      "Up_conv2.0.weight \t torch.Size([64, 128, 1, 1])\n",
      "Up_conv2.0.bias \t torch.Size([64])\n",
      "Up_conv2.1.weight \t torch.Size([64])\n",
      "Up_conv2.1.bias \t torch.Size([64])\n",
      "Up_conv2.1.running_mean \t torch.Size([64])\n",
      "Up_conv2.1.running_var \t torch.Size([64])\n",
      "Up_conv2.1.num_batches_tracked \t torch.Size([])\n",
      "Conv_1x1.weight \t torch.Size([2, 64, 1, 1])\n",
      "Conv_1x1.bias \t torch.Size([2])\n"
     ]
    }
   ],
   "source": [
    "model=DualEncoding_U_Net(img1_ch=3,img2_ch=1,output_ch=2)\n",
    "# model=AttnUNet(img_ch=2,output_ch=1,dropout=0.5)\n",
    "\n",
    "\n",
    "model_start_date=datetime.datetime.now().strftime(\"%Y_%m_%d\")\n",
    "BEST_MODEL_PATH=os.path.join(os.getcwd(),'model_{}'.format(model_start_date))\n",
    "if not os.path.exists(BEST_MODEL_PATH):\n",
    "    os.mkdir(BEST_MODEL_PATH)\n",
    "    print('{} dir has been made'.format(BEST_MODEL_PATH))\n",
    "print(\"Model's state_dict:\")\n",
    "writer = SummaryWriter('{}/experiment_{}'.format(BEST_MODEL_PATH,1))\n",
    "for param_tensor in model.state_dict():\n",
    "    print(param_tensor, \"\\t\", model.state_dict()[param_tensor].size())\n",
    "device = torch.device(\"cuda:0\" if torch.cuda.is_available() else \"cpu\")\n"
   ]
  },
  {
   "cell_type": "code",
   "execution_count": null,
   "metadata": {},
   "outputs": [
    {
     "name": "stdout",
     "output_type": "stream",
     "text": [
      "Tesla V100-SXM2-32GB\n",
      "initialized network with normal initialization\n",
      "Learning Rate : 0.001\n"
     ]
    },
    {
     "data": {
      "application/vnd.jupyter.widget-view+json": {
       "model_id": "744b40bc8fcb40009e5355f8eafdc855",
       "version_major": 2,
       "version_minor": 0
      },
      "text/plain": [
       "HBox(children=(IntProgress(value=0, max=1407), HTML(value='')))"
      ]
     },
     "metadata": {},
     "output_type": "display_data"
    },
    {
     "name": "stdout",
     "output_type": "stream",
     "text": [
      "\n",
      "test_loss: 0.21439511035774042\n",
      "test_dice :0.7764513664833557\n",
      "saved model with test dice score: 0.7764513664833557\n",
      "Learning Rate : 0.0009618863060886049\n"
     ]
    },
    {
     "data": {
      "application/vnd.jupyter.widget-view+json": {
       "model_id": "e38a52d0189647328df95230e2e4c3aa",
       "version_major": 2,
       "version_minor": 0
      },
      "text/plain": [
       "HBox(children=(IntProgress(value=0, max=1407), HTML(value='')))"
      ]
     },
     "metadata": {},
     "output_type": "display_data"
    },
    {
     "name": "stdout",
     "output_type": "stream",
     "text": [
      "\n",
      "test_loss: 0.25376148858800684\n",
      "test_dice :0.7190653116762232\n",
      "Learning Rate : 0.000853355839014516\n"
     ]
    },
    {
     "data": {
      "application/vnd.jupyter.widget-view+json": {
       "model_id": "657231d22e5f457aa14d308461b50fcc",
       "version_major": 2,
       "version_minor": 0
      },
      "text/plain": [
       "HBox(children=(IntProgress(value=0, max=1407), HTML(value='')))"
      ]
     },
     "metadata": {},
     "output_type": "display_data"
    },
    {
     "name": "stdout",
     "output_type": "stream",
     "text": [
      "\n",
      "test_loss: 0.21988679751644435\n",
      "test_dice :0.780559565724422\n",
      "saved model with test dice score: 0.780559565724422\n",
      "Learning Rate : 0.0006909545868027698\n"
     ]
    },
    {
     "data": {
      "application/vnd.jupyter.widget-view+json": {
       "model_id": "4fcfccf8df354d84bcb9757531866509",
       "version_major": 2,
       "version_minor": 0
      },
      "text/plain": [
       "HBox(children=(IntProgress(value=0, max=1407), HTML(value='')))"
      ]
     },
     "metadata": {},
     "output_type": "display_data"
    },
    {
     "name": "stdout",
     "output_type": "stream",
     "text": [
      "\n",
      "test_loss: 0.23016910382981817\n",
      "test_dice :0.7832169576169675\n",
      "saved model with test dice score: 0.7832169576169675\n",
      "Learning Rate : 0.0004994413959486283\n"
     ]
    },
    {
     "data": {
      "application/vnd.jupyter.widget-view+json": {
       "model_id": "ca1d9d2db06d413690bac3b89cbe228e",
       "version_major": 2,
       "version_minor": 0
      },
      "text/plain": [
       "HBox(children=(IntProgress(value=0, max=1407), HTML(value='')))"
      ]
     },
     "metadata": {},
     "output_type": "display_data"
    },
    {
     "name": "stdout",
     "output_type": "stream",
     "text": [
      "\n",
      "test_loss: 0.2471580659224363\n",
      "test_dice :0.7876274697170984\n",
      "saved model with test dice score: 0.7876274697170984\n",
      "Learning Rate : 0.00030801336702612574\n"
     ]
    },
    {
     "data": {
      "application/vnd.jupyter.widget-view+json": {
       "model_id": "a6963065752044ba9084bba9e42f3232",
       "version_major": 2,
       "version_minor": 0
      },
      "text/plain": [
       "HBox(children=(IntProgress(value=0, max=1407), HTML(value='')))"
      ]
     },
     "metadata": {},
     "output_type": "display_data"
    },
    {
     "name": "stdout",
     "output_type": "stream",
     "text": [
      "\n",
      "test_loss: 0.26256233931277034\n",
      "test_dice :0.7976602592332569\n",
      "saved model with test dice score: 0.7976602592332569\n",
      "Learning Rate : 0.00014585461726610257\n"
     ]
    },
    {
     "data": {
      "application/vnd.jupyter.widget-view+json": {
       "model_id": "c8c86d22ae02450b9c0efc105d693170",
       "version_major": 2,
       "version_minor": 0
      },
      "text/plain": [
       "HBox(children=(IntProgress(value=0, max=1407), HTML(value='')))"
      ]
     },
     "metadata": {},
     "output_type": "display_data"
    },
    {
     "name": "stdout",
     "output_type": "stream",
     "text": [
      "\n",
      "test_loss: 0.2846321827451156\n",
      "test_dice :0.7968823103745631\n",
      "Learning Rate : 3.768702250691239e-05\n"
     ]
    },
    {
     "data": {
      "application/vnd.jupyter.widget-view+json": {
       "model_id": "788e64d634624db4bc8b2882925eb064",
       "version_major": 2,
       "version_minor": 0
      },
      "text/plain": [
       "HBox(children=(IntProgress(value=0, max=1407), HTML(value='')))"
      ]
     },
     "metadata": {},
     "output_type": "display_data"
    },
    {
     "name": "stdout",
     "output_type": "stream",
     "text": [
      "\n",
      "test_loss: 0.29969439498943834\n",
      "test_dice :0.7953698059660576\n",
      "Learning Rate : 1.2491561804952978e-09\n"
     ]
    },
    {
     "data": {
      "application/vnd.jupyter.widget-view+json": {
       "model_id": "0c36ecb02c12428c867f5fbe87ba44b9",
       "version_major": 2,
       "version_minor": 0
      },
      "text/plain": [
       "HBox(children=(IntProgress(value=0, max=1407), HTML(value='')))"
      ]
     },
     "metadata": {},
     "output_type": "display_data"
    }
   ],
   "source": [
    "print(torch.cuda.get_device_name(torch.cuda.current_device()))\n",
    "pretrained=False\n",
    "optimizer_selected='adam'\n",
    "batchsize=batch_size_train\n",
    "no_steps=train_dataset.__len__()//batchsize\n",
    "restart_epochs=8\n",
    "num_epochs=40\n",
    "device = torch.device(\"cuda:0\" if torch.cuda.is_available() else \"cpu\")\n",
    "\n",
    "#criterion = SoftDiceLoss()#\n",
    "criterion=nn.BCELoss()\n",
    "\n",
    "history={'train_loss':[],'test_loss':[],'train_dice':[],'test_dice':[]}\n",
    "model = model.to(device)\n",
    "\n",
    "if optimizer_selected=='adam':\n",
    "    optimizer = torch.optim.Adam(model.parameters(),lr=1e-03, betas=(0.9, 0.98))\n",
    "else:\n",
    "    optimizer = torch.optim.SGD(model.parameters(),lr=1e-03, momentum=0.8,nesterov=True)\n",
    "\n",
    "scheduler=torch.optim.lr_scheduler.CosineAnnealingLR(optimizer, restart_epochs*no_steps,\\\n",
    "                                                     eta_min=1e-012, last_epoch=-1)\n",
    "# scheduler=torch.optim.lr_scheduler.ReduceLROnPlateau(optimizer,mode='min',factor=0.1, patience=2,verbose=True)\n",
    "\n",
    "if pretrained:\n",
    "    filename='KI67_model_2_2019_12_26/model_optim.pth'\n",
    "    load_model(filename,model,optimizer=None,scheduler=None)\n",
    "else:\n",
    "    init_weights(model)\n",
    "\n",
    "best_val=0\n",
    "for epoch in range(num_epochs):\n",
    "    \n",
    "    print(\"Learning Rate : {}\".format(optimizer.state_dict()['param_groups'][-1]['lr']))\n",
    "    # loop over the dataset multiple times\n",
    "    \n",
    "    run_avg_train_loss=0\n",
    "    run_avg_train_dice=0\n",
    "    \n",
    "   \n",
    "    \n",
    "    run_avg_test_loss=0\n",
    "    run_avg_test_dice=0\n",
    "    \n",
    "    for mode in ['train','eval']:\n",
    "     \n",
    "        if mode == 'train':\n",
    "            \n",
    "            model.train()\n",
    "            loop=tqdm(train_loader)\n",
    "            \n",
    "            for i, sample_batched in (enumerate(loop)):\n",
    "                loop.set_description('Epoch {}/{}'.format(epoch + 1, num_epochs))\n",
    "                \n",
    "                #Clear Gradients\n",
    "                optimizer.zero_grad()\n",
    "                \n",
    "                # get the inputs; data is a list of [dapi, nuclei, boundary]\n",
    "                h_e_train, h_train,nuclei_mask_train,boundary_mask_train = sample_batched['h_e']\\\n",
    "                ,sample_batched['h']\\\n",
    "                ,sample_batched['nuclei_mask']\\\n",
    "                ,sample_batched['boundary_mask']\n",
    "                \n",
    "                h_e_train, h_train,nuclei_mask_train,boundary_mask_train = \\\n",
    "                h_e_train.to(device, dtype = torch.float),h_train.to(device, dtype = torch.float)\\\n",
    "                ,nuclei_mask_train.to(device, dtype = torch.float)\\\n",
    "                ,boundary_mask_train.to(device, dtype = torch.float)\n",
    "                \n",
    "                gt_mask_train=torch.cat((nuclei_mask_train,boundary_mask_train),dim=1)\n",
    "\n",
    "                # forward + backward + optimize\n",
    "#                 img_batch_comb=torch.cat((img_batch,dapi_batch),dim=1)\n",
    "                outputs = torch.sigmoid(model(h_e_train,h_train))\n",
    "                pred_nuclei_train,pred_boundary_train=torch.chunk(outputs,2,dim=1)\n",
    "                \n",
    "\n",
    "                \n",
    "                loss = criterion(outputs, gt_mask_train)\n",
    "                dice_score=dice_metric(pred_nuclei_train,nuclei_mask_train)\n",
    "                run_avg_train_loss=(run_avg_train_loss*(0.9))+loss.detach().item()*0.1\n",
    "                run_avg_train_dice=(run_avg_train_dice*(0.9))+dice_score.detach().item()*0.1\n",
    "               \n",
    "                if (i+1)%100==0:\n",
    "                    \n",
    "\n",
    "                    img_tensor=torch.cat((pred_nuclei_train.detach().cpu(),nuclei_mask_train.detach().cpu(),\\\n",
    "                                         pred_boundary_train.detach().cpu(),boundary_mask_train.detach().cpu()),dim=0)\n",
    "                    \n",
    "                    img_grid2 = torchvision.utils.make_grid(img_tensor,nrow=batch_size_train,padding=10)\n",
    "                    torchvision.utils.save_image\\\n",
    "                    (img_grid2,os.path.join(BEST_MODEL_PATH,\\\n",
    "                                            'train_iter_{}.png'.format(epoch*len(train_loader)+i+1)))\n",
    "                    \n",
    "                    writer.add_image('TRAIN_ITER_{}'.format(epoch * len(train_loader) + i+1), img_grid2)\n",
    "                    \n",
    "                    \n",
    "                    writer.add_scalar('Training dice score nuclei',\n",
    "                            run_avg_train_dice,\n",
    "                            epoch * len(train_loader) + i+1)\n",
    "                \n",
    "                    writer.add_scalar('Training Loss',\n",
    "                            run_avg_train_loss,\n",
    "                            epoch * len(train_loader) + i+1)\n",
    "                    \n",
    "                loss.backward()\n",
    "                optimizer.step()\n",
    "                \n",
    "                scheduler.step()\n",
    "                \n",
    "                \n",
    "                loop.set_postfix(loss=run_avg_train_loss,dice_score=run_avg_train_dice)\n",
    "               \n",
    "            history['train_loss'].append(run_avg_train_loss)\n",
    "            history['train_dice'].append(run_avg_train_dice)\n",
    "                \n",
    "                 \n",
    "                    \n",
    "        elif mode =='eval':\n",
    "            #Clear Gradients\n",
    "            optimizer.zero_grad()\n",
    "            samples_test=len(test_loader)\n",
    "            model.eval()\n",
    "            val_loss=0\n",
    "            test_agg=0\n",
    "            for j, test_sample in enumerate(test_loader):\n",
    "\n",
    "                h_e_test, h_test,nuclei_mask_test,boundary_mask_test = test_sample['h_e']\\\n",
    "                ,test_sample['h']\\\n",
    "                ,test_sample['nuclei_mask']\\\n",
    "                ,test_sample['boundary_mask']\n",
    "                \n",
    "                h_e_test, h_test,nuclei_mask_test,boundary_mask_test = \\\n",
    "                h_e_test.to(device, dtype = torch.float),h_test.to(device, dtype = torch.float)\\\n",
    "                ,nuclei_mask_test.to(device, dtype = torch.float)\\\n",
    "                ,boundary_mask_test.to(device, dtype = torch.float)\n",
    "                \n",
    "                \n",
    "                gt_mask_test=torch.cat((nuclei_mask_test,boundary_mask_test),dim=1)\n",
    "                test_outputs = torch.sigmoid(model(h_e_test,h_test))\n",
    "                pred_nuclei_test,pred_boundary_test=torch.chunk(test_outputs,2,dim=1)\n",
    "                \n",
    "                test_loss = criterion(test_outputs, gt_mask_test)\n",
    "                #final_test_loss+=test_loss.detach().item()\n",
    "                test_dice=dice_metric(pred_nuclei_test,nuclei_mask_test)\n",
    "                #final_test_dice+=test_dice\n",
    "                run_avg_test_loss=(run_avg_test_loss*(0.9))+test_loss.detach().item()*0.1\n",
    "                run_avg_test_dice=(run_avg_test_dice*(0.9))+test_dice.detach().item()*0.1\n",
    "                \n",
    "               \n",
    "                if (j+1)%50==0:\n",
    "                    \n",
    "                    \n",
    "\n",
    "                    img_tensor_test=torch.cat((pred_nuclei_test.detach().cpu(),nuclei_mask_test.detach().cpu(),\\\n",
    "                                              pred_boundary_test.detach().cpu(),boundary_mask_test.detach().cpu()),dim=0)\n",
    "                    \n",
    "                    \n",
    "                    img_grid = torchvision.utils.make_grid(img_tensor_test,nrow=batch_size_test,padding=10)\n",
    "                    torchvision.utils.save_image\\\n",
    "                    (img_grid,os.path.join(BEST_MODEL_PATH,\\\n",
    "                                            'test_iter_{}.png'.format(epoch*len(train_loader)+j+1)))\n",
    "                    \n",
    "                    writer.add_image('TEST_ITER_{}'.format(epoch * len(test_loader) + j+1), img_grid)\n",
    "                    writer.add_scalar('Testing dice score ',\\\n",
    "                                      run_avg_test_dice,epoch * len(test_loader) + j+1)\n",
    "                    \n",
    "                    writer.add_scalar('Testing Loss',\\\n",
    "                                      run_avg_test_loss,epoch * len(test_loader) + j+1)\n",
    "                \n",
    "            print(\"test_loss: {}\\ntest_dice :{}\"\\\n",
    "                  .format(run_avg_test_loss,run_avg_test_dice))\n",
    "            history['test_loss'].append(run_avg_test_loss)\n",
    "            history['test_dice'].append(run_avg_test_dice)\n",
    "            if run_avg_test_dice>best_val:\n",
    "                best_val=run_avg_test_dice\n",
    "                save_model(model,optimizer,BEST_MODEL_PATH+'/model_optim.pth',scheduler=scheduler)\n",
    "                print(\"saved model with test dice score: {}\".format(best_val))\n",
    "    \n",
    "#             print(\"val_loss {}\".format(val_loss/samples_test))\n",
    "save_model(model,optimizer, BEST_MODEL_PATH+'/model_final.pth',scheduler=scheduler)    \n",
    "\n",
    "with open(\"history.txt\", \"wb\") as fp:   #Pickling\n",
    "    pickle.dump(history, fp)\n",
    "    "
   ]
  }
 ],
 "metadata": {
  "kernelspec": {
   "display_name": "Python 3",
   "language": "python",
   "name": "python3"
  },
  "language_info": {
   "codemirror_mode": {
    "name": "ipython",
    "version": 3
   },
   "file_extension": ".py",
   "mimetype": "text/x-python",
   "name": "python",
   "nbconvert_exporter": "python",
   "pygments_lexer": "ipython3",
   "version": "3.6.7"
  }
 },
 "nbformat": 4,
 "nbformat_minor": 2
}
