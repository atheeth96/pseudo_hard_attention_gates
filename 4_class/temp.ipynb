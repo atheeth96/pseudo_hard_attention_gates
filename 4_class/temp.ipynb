{
 "cells": [
  {
   "cell_type": "code",
   "execution_count": 1,
   "metadata": {},
   "outputs": [
    {
     "name": "stderr",
     "output_type": "stream",
     "text": [
      "/opt/conda/lib/python3.6/site-packages/h5py/__init__.py:34: FutureWarning: Conversion of the second argument of issubdtype from `float` to `np.floating` is deprecated. In future, it will be treated as `np.float64 == np.dtype(float).type`.\n",
      "  from ._conv import register_converters as _register_converters\n",
      "Using TensorFlow backend.\n"
     ]
    }
   ],
   "source": [
    "import numpy as np\n",
    "import glob\n",
    "import glob\n",
    "import os.path\n",
    "import sys\n",
    "import xml.etree.ElementTree as ET\n",
    "import matplotlib.pyplot as plt\n",
    "import matplotlib.image as mpimg\n",
    "import os\n",
    "import cv2\n",
    "import matplotlib.pyplot as plt\n",
    "import imutils\n",
    "import pandas as pd\n",
    "import re\n",
    "import datetime\n",
    "from sklearn.decomposition import NMF\n",
    "from sklearn.utils import shuffle\n",
    "from skimage import draw\n",
    "from scipy.sparse import csr_matrix,linalg\n",
    "#import spams\n",
    "import time\n",
    "import math\n",
    "from keras.models import Sequential,model_from_json, Input,Model\n",
    "from keras.layers import Conv2D,Dense,MaxPooling2D,Flatten,Dropout,ReLU,Activation\n",
    "from keras.preprocessing import image\n",
    "import keras.backend as K\n",
    "import random\n",
    "from sklearn.metrics import f1_score\n",
    "from tqdm import tqdm_notebook as tqdm \n",
    "#from tensorflow.keras.callbacks import TensorBoard\n",
    "import keras\n",
    "from tensorboard import version\n",
    "from keras.models import model_from_json\n",
    "\n",
    "from keras.backend.tensorflow_backend import set_session\n",
    "import tensorflow as tf\n",
    "config = tf.ConfigProto()\n",
    "config.gpu_options.per_process_gpu_memory_fraction=0.2\n",
    "#config.gpu_options.allow_growth=True ##to use gpu as needed\n",
    "config.log_device_placement = True  \n",
    "sess = tf.Session(config=config)\n",
    "set_session(sess)\n",
    "\n",
    "\n"
   ]
  },
  {
   "cell_type": "code",
   "execution_count": 2,
   "metadata": {},
   "outputs": [],
   "source": [
    "BORDER_VALUE=255\n",
    "NUCLEUS_VALUE=127\n",
    "BG_VALUE=0\n",
    "new_name=glob.glob('/datalab/nuclei_seg/png_images/*.PNG')\n",
    "def rot_image(img):\n",
    "    test=img.copy()\n",
    "    rot=imutils.rotate(test,270)\n",
    "    rot=cv2.flip(rot,1)\n",
    "    return rot\n",
    "\n",
    "def poly2boundry(x,y,img_array):\n",
    "    if len(x)==2 and len(y)==2:\n",
    "        rr,cc=draw.line(x[0],y[0],x[1],y[1])\n",
    "    else:\n",
    "        rr, cc = draw.polygon_perimeter(x, y)\n",
    "    img_array[rr,cc]=[BORDER_VALUE]\n",
    "    return img_array\n",
    "\n",
    "def check_in_bounds(x,y,bound):\n",
    "\n",
    "    if x>=bound:\n",
    "        x=bound-1\n",
    "    if y>=bound:\n",
    "        y=bound-1\n",
    "    if x<0:\n",
    "        x=0\n",
    "    if y<0:\n",
    "        y=0\n",
    "    return x,y\n",
    "\n",
    "name=new_name[0]\n",
    "new_name=name.replace('png_images','binary_images')\n",
    "xml_name=name.replace('/datalab/nuclei_seg/png_images/','/datalab/nuclei_seg/Annotations/')\n",
    "xml_name=xml_name.replace('.PNG','.xml')\n",
    "tree=ET.parse(xml_name)\n",
    "root=tree.getroot()\n",
    "\n",
    "\n",
    "\n"
   ]
  },
  {
   "cell_type": "code",
   "execution_count": 3,
   "metadata": {},
   "outputs": [
    {
     "name": "stdout",
     "output_type": "stream",
     "text": [
      "390\n"
     ]
    }
   ],
   "source": [
    "vt=[x for x in root.iter('Vertices')]\n",
    "print(len(vt))"
   ]
  },
  {
   "cell_type": "code",
   "execution_count": 10,
   "metadata": {},
   "outputs": [
    {
     "name": "stdout",
     "output_type": "stream",
     "text": [
      "The number of regions :390\n",
      "488\n",
      "DONE\n"
     ]
    }
   ],
   "source": [
    "img_test=np.zeros(shape=(1000,1000),dtype=np.uint8)\n",
    "print(\"The number of regions :{}\".format(len([v.tag for v in root.iter('Vertices')])))\n",
    "v=vt[0]\n",
    "X=[]\n",
    "Y=[]\n",
    "print(len([c.tag for c in v]))\n",
    "for child in v:\n",
    "    \n",
    "    x=int(eval(child.attrib['X']))\n",
    "    y=int(eval(child.attrib['Y']))\n",
    "    x,y=check_in_bounds(x,y,1000)\n",
    "\n",
    "\n",
    "\n",
    "    X.append(x)\n",
    "    Y.append(y)\n",
    "\n",
    "img_temp=np.zeros(shape=(1000,1000),dtype=np.uint8)\n",
    "r_nucleus,c_nucleus=draw.polygon(X,Y)\n",
    "img_test[r_nucleus,c_nucleus]=NUCLEUS_VALUE\n",
    "img_temp[r_nucleus,c_nucleus]=NUCLEUS_VALUE\n",
    "\n",
    "img_test=poly2boundry(X,Y,img_test)\n",
    "\n",
    "area_nuc=len(r_nucleus)\n",
    "area_eroded=area_nuc\n",
    "kernel=np.ones((3,3),dtype=np.uint8)\n",
    "\n",
    "\n",
    "while area_eroded>0.4*area_nuc:\n",
    "\n",
    "    area_eroded=len(np.where(img_temp==NUCLEUS_VALUE)[0])\n",
    "    img_temp=cv2.erode(img_temp,kernel,iterations=1)\n",
    "    \n",
    "\n",
    "img_test.dtype=np.uint8\n",
    "x,y=np.where(img_test==255)\n",
    "for i,a in enumerate(x):\n",
    "    img_test[a-1:a+2,y[i]-1:y[i]+2]=BORDER_VALUE\n",
    "    img_test.dtype='uint8'\n",
    "    \n",
    "img_test[np.where(img_temp==NUCLEUS_VALUE)]=63\n",
    "img_test=rot_image(img_test)\n",
    "\n",
    "\n",
    "#cv2.imwrite(new_name,img_test)\n",
    "\n",
    "print(\"DONE\")\n",
    "\n"
   ]
  },
  {
   "cell_type": "code",
   "execution_count": 11,
   "metadata": {},
   "outputs": [
    {
     "data": {
      "text/plain": [
       "<matplotlib.image.AxesImage at 0x7f9a3c6e0c88>"
      ]
     },
     "execution_count": 11,
     "metadata": {},
     "output_type": "execute_result"
    },
    {
     "data": {
      "image/png": "[encoded data removed]",
      "text/plain": [
       "<Figure size 432x288 with 1 Axes>"
      ]
     },
     "metadata": {
      "needs_background": "light"
     },
     "output_type": "display_data"
    }
   ],
   "source": [
    "plt.imshow(img_test)"
   ]
  }
 ],
 "metadata": {
  "kernelspec": {
   "display_name": "Python 3",
   "language": "python",
   "name": "python3"
  },
  "language_info": {
   "codemirror_mode": {
    "name": "ipython",
    "version": 3
   },
   "file_extension": ".py",
   "mimetype": "text/x-python",
   "name": "python",
   "nbconvert_exporter": "python",
   "pygments_lexer": "ipython3",
   "version": "3.6.7"
  }
 },
 "nbformat": 4,
 "nbformat_minor": 2
}
