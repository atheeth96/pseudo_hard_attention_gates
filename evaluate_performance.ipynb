{
 "cells": [
  {
   "cell_type": "code",
   "execution_count": 1,
   "metadata": {},
   "outputs": [
    {
     "name": "stdout",
     "output_type": "stream",
     "text": [
      "The history saving thread hit an unexpected error (DatabaseError('database disk image is malformed',)).History will not be written to the database.\n"
     ]
    }
   ],
   "source": [
    "import matplotlib.pyplot as plt\n",
    "import os\n",
    "from tqdm import tqdm_notebook as tqdm\n",
    "from skimage.measure import label, regionprops\n",
    "import skimage\n",
    "from skimage.io import imread,imsave\n",
    "from skimage.filters import threshold_otsu\n",
    "import numpy as np\n",
    "from skimage import morphology\n",
    "import warnings\n",
    "warnings.filterwarnings('ignore')\n",
    "import math\n",
    "from Models import DualEncoding_U_Net,load_model"
   ]
  },
  {
   "cell_type": "code",
   "execution_count": 2,
   "metadata": {},
   "outputs": [
    {
     "ename": "FileNotFoundError",
     "evalue": "[Errno 2] No such file or directory: 'model_CPM_17_2020_02_06/model_optim.pth'",
     "output_type": "error",
     "traceback": [
      "\u001b[0;31m---------------------------------------------------------------------------\u001b[0m",
      "\u001b[0;31mFileNotFoundError\u001b[0m                         Traceback (most recent call last)",
      "\u001b[0;32m<ipython-input-2-bc6d3c0f88b6>\u001b[0m in \u001b[0;36m<module>\u001b[0;34m\u001b[0m\n\u001b[1;32m      4\u001b[0m \u001b[0mmodel\u001b[0m\u001b[0;34m=\u001b[0m\u001b[0mDualEncoding_U_Net\u001b[0m\u001b[0;34m(\u001b[0m\u001b[0mimg1_ch\u001b[0m\u001b[0;34m=\u001b[0m\u001b[0;36m3\u001b[0m\u001b[0;34m,\u001b[0m\u001b[0mimg2_ch\u001b[0m\u001b[0;34m=\u001b[0m\u001b[0;36m1\u001b[0m\u001b[0;34m,\u001b[0m\u001b[0moutput_ch\u001b[0m\u001b[0;34m=\u001b[0m\u001b[0;36m2\u001b[0m\u001b[0;34m,\u001b[0m\u001b[0mdropout\u001b[0m\u001b[0;34m=\u001b[0m\u001b[0;36m0.3\u001b[0m\u001b[0;34m,\u001b[0m\u001b[0minclude_ffm\u001b[0m\u001b[0;34m=\u001b[0m\u001b[0;32mFalse\u001b[0m\u001b[0;34m)\u001b[0m     \u001b[0;31m# Define the model\u001b[0m\u001b[0;34m\u001b[0m\u001b[0;34m\u001b[0m\u001b[0m\n\u001b[1;32m      5\u001b[0m \u001b[0mfilename\u001b[0m\u001b[0;34m=\u001b[0m\u001b[0;34m'model_CPM_17_2020_02_06/model_optim.pth'\u001b[0m\u001b[0;34m\u001b[0m\u001b[0;34m\u001b[0m\u001b[0m\n\u001b[0;32m----> 6\u001b[0;31m \u001b[0mload_model\u001b[0m\u001b[0;34m(\u001b[0m\u001b[0mfilename\u001b[0m\u001b[0;34m,\u001b[0m\u001b[0mmodel\u001b[0m\u001b[0;34m,\u001b[0m\u001b[0moptimizer\u001b[0m\u001b[0;34m=\u001b[0m\u001b[0;32mNone\u001b[0m\u001b[0;34m,\u001b[0m\u001b[0mscheduler\u001b[0m\u001b[0;34m=\u001b[0m\u001b[0;32mNone\u001b[0m\u001b[0;34m)\u001b[0m\u001b[0;34m\u001b[0m\u001b[0;34m\u001b[0m\u001b[0m\n\u001b[0m",
      "\u001b[0;32m/datalab/training-assets/R_medical/atheeth/nuclei_seg/Models.py\u001b[0m in \u001b[0;36mload_model\u001b[0;34m(filename, model, optimizer, scheduler)\u001b[0m\n\u001b[1;32m     74\u001b[0m \u001b[0;34m\u001b[0m\u001b[0m\n\u001b[1;32m     75\u001b[0m \u001b[0;34m\u001b[0m\u001b[0m\n\u001b[0;32m---> 76\u001b[0;31m     \u001b[0mcheckpoint\u001b[0m\u001b[0;34m=\u001b[0m\u001b[0mtorch\u001b[0m\u001b[0;34m.\u001b[0m\u001b[0mload\u001b[0m\u001b[0;34m(\u001b[0m\u001b[0mfilename\u001b[0m\u001b[0;34m)\u001b[0m\u001b[0;34m\u001b[0m\u001b[0;34m\u001b[0m\u001b[0m\n\u001b[0m\u001b[1;32m     77\u001b[0m     \u001b[0mmodel\u001b[0m\u001b[0;34m.\u001b[0m\u001b[0mload_state_dict\u001b[0m\u001b[0;34m(\u001b[0m\u001b[0mcheckpoint\u001b[0m\u001b[0;34m[\u001b[0m\u001b[0;34m'state_dict'\u001b[0m\u001b[0;34m]\u001b[0m\u001b[0;34m)\u001b[0m\u001b[0;34m\u001b[0m\u001b[0;34m\u001b[0m\u001b[0m\n\u001b[1;32m     78\u001b[0m     \u001b[0mprint\u001b[0m\u001b[0;34m(\u001b[0m\u001b[0;34m\"Done loading\"\u001b[0m\u001b[0;34m)\u001b[0m\u001b[0;34m\u001b[0m\u001b[0;34m\u001b[0m\u001b[0m\n",
      "\u001b[0;32m~/.local/lib/python3.6/site-packages/torch/serialization.py\u001b[0m in \u001b[0;36mload\u001b[0;34m(f, map_location, pickle_module, **pickle_load_args)\u001b[0m\n\u001b[1;32m    417\u001b[0m             \u001b[0;34m(\u001b[0m\u001b[0msys\u001b[0m\u001b[0;34m.\u001b[0m\u001b[0mversion_info\u001b[0m\u001b[0;34m[\u001b[0m\u001b[0;36m0\u001b[0m\u001b[0;34m]\u001b[0m \u001b[0;34m==\u001b[0m \u001b[0;36m2\u001b[0m \u001b[0;32mand\u001b[0m \u001b[0misinstance\u001b[0m\u001b[0;34m(\u001b[0m\u001b[0mf\u001b[0m\u001b[0;34m,\u001b[0m \u001b[0municode\u001b[0m\u001b[0;34m)\u001b[0m\u001b[0;34m)\u001b[0m\u001b[0;34m:\u001b[0m\u001b[0;34m\u001b[0m\u001b[0;34m\u001b[0m\u001b[0m\n\u001b[1;32m    418\u001b[0m         \u001b[0mnew_fd\u001b[0m \u001b[0;34m=\u001b[0m \u001b[0;32mTrue\u001b[0m\u001b[0;34m\u001b[0m\u001b[0;34m\u001b[0m\u001b[0m\n\u001b[0;32m--> 419\u001b[0;31m         \u001b[0mf\u001b[0m \u001b[0;34m=\u001b[0m \u001b[0mopen\u001b[0m\u001b[0;34m(\u001b[0m\u001b[0mf\u001b[0m\u001b[0;34m,\u001b[0m \u001b[0;34m'rb'\u001b[0m\u001b[0;34m)\u001b[0m\u001b[0;34m\u001b[0m\u001b[0;34m\u001b[0m\u001b[0m\n\u001b[0m\u001b[1;32m    420\u001b[0m     \u001b[0;32melif\u001b[0m \u001b[0;34m(\u001b[0m\u001b[0msys\u001b[0m\u001b[0;34m.\u001b[0m\u001b[0mversion_info\u001b[0m\u001b[0;34m[\u001b[0m\u001b[0;36m0\u001b[0m\u001b[0;34m]\u001b[0m \u001b[0;34m==\u001b[0m \u001b[0;36m3\u001b[0m \u001b[0;32mand\u001b[0m \u001b[0misinstance\u001b[0m\u001b[0;34m(\u001b[0m\u001b[0mf\u001b[0m\u001b[0;34m,\u001b[0m \u001b[0mpathlib\u001b[0m\u001b[0;34m.\u001b[0m\u001b[0mPath\u001b[0m\u001b[0;34m)\u001b[0m\u001b[0;34m)\u001b[0m\u001b[0;34m:\u001b[0m\u001b[0;34m\u001b[0m\u001b[0;34m\u001b[0m\u001b[0m\n\u001b[1;32m    421\u001b[0m         \u001b[0mnew_fd\u001b[0m \u001b[0;34m=\u001b[0m \u001b[0;32mTrue\u001b[0m\u001b[0;34m\u001b[0m\u001b[0;34m\u001b[0m\u001b[0m\n",
      "\u001b[0;31mFileNotFoundError\u001b[0m: [Errno 2] No such file or directory: 'model_CPM_17_2020_02_06/model_optim.pth'"
     ]
    }
   ],
   "source": [
    "path_h_gray='/home/vahadaneabhi01/datalab/training-assets/R_medical/atheeth/nuclei_seg/other_data/CPM_17/Test/H_gray'\n",
    "path_h_e='/home/vahadaneabhi01/datalab/training-assets/R_medical/atheeth/nuclei_seg/other_data/CPM_17/Test/Images'\n",
    "\n",
    "model=DualEncoding_U_Net(img1_ch=3,img2_ch=1,output_ch=2,dropout=0.3,include_ffm=False)     # Define the model\n",
    "filename='model_CPM_17_2020_02_06/model_optim.pth'\n",
    "load_model(filename,model,optimizer=None,scheduler=None) \n"
   ]
  },
  {
   "cell_type": "code",
   "execution_count": null,
   "metadata": {},
   "outputs": [],
   "source": [
    "import torch\n",
    "import torchvision\n",
    "import torch.nn as nn\n",
    "from torch.utils.data import DataLoader\n",
    "from torch.utils.tensorboard import SummaryWriter\n",
    "import torch.nn.functional as F\n",
    "device = torch.device(\"cuda:0\" if torch.cuda.is_available() else \"cpu\")\n",
    "model = model.to(device)\n",
    "a=imread('/home/vahadaneabhi01/datalab/training-assets/\\\n",
    "R_medical/atheeth/nuclei_seg/other_data/CPM_17/Test/Images/gbm_image03.png')[250-128:250+128,250-128:250+128,:3]/255\n",
    "\n",
    "b=imread('/home/vahadaneabhi01/datalab/training-assets/\\\n",
    "R_medical/atheeth/nuclei_seg/other_data/CPM_17/Test/NucleiMaps/gbm_image03.png')[250-128:250+128,250-128:250+128]/255\n",
    "\n",
    "c=1-imread('/home/vahadaneabhi01/datalab/training-assets/\\\n",
    "R_medical/atheeth/nuclei_seg/other_data/CPM_17/Test/H_gray/gbm_image03.png')[250-128:250+128,250-128:250+128]/255\n",
    "plt.imshow(c)\n",
    "a=torch.from_numpy(np.expand_dims(a.transpose((2, 0, 1)),axis=0)).type(torch.FloatTensor).to(device)\n",
    "b=torch.from_numpy(np.expand_dims(np.expand_dims(b,axis=2).transpose((2, 0, 1)),axis=0))\\\n",
    "                   .type(torch.FloatTensor).to(device)\n",
    "c=torch.from_numpy(np.expand_dims(np.expand_dims(c,axis=2).transpose((2, 0, 1)),axis=0))\\\n",
    "                   .type(torch.FloatTensor).to(device)\n",
    "print(a.size())\n",
    "output,list_attn=model(a,c)"
   ]
  },
  {
   "cell_type": "code",
   "execution_count": null,
   "metadata": {},
   "outputs": [],
   "source": [
    "print(list_attn[2][0][0].detach().cpu().numpy().shape)\n",
    "plt.imshow(list_attn[2][0][0].detach().cpu().numpy()*255,cmap='YlGnBu')"
   ]
  },
  {
   "cell_type": "code",
   "execution_count": null,
   "metadata": {},
   "outputs": [],
   "source": [
    "print(list_attn[2][0][0].detach().cpu().numpy())"
   ]
  },
  {
   "cell_type": "code",
   "execution_count": null,
   "metadata": {},
   "outputs": [],
   "source": [
    "k=imread('/home/vahadaneabhi01/datalab/training-assets/\\\n",
    "R_medical/atheeth/nuclei_seg/other_data/CPM_17/Test/Images/gbm_image05.png')\n",
    "print(k.shape)\n",
    "plt.imshow(k)"
   ]
  },
  {
   "cell_type": "code",
   "execution_count": null,
   "metadata": {},
   "outputs": [],
   "source": [
    "a=imread('nuclei_TCGA-AY-A8YK-01A-01-TS1 (1).png')\n",
    "b=imread('bound_TCGA-AY-A8YK-01A-01-TS1.png')\n",
    "plt.imshow(b)"
   ]
  },
  {
   "cell_type": "code",
   "execution_count": 5,
   "metadata": {},
   "outputs": [],
   "source": [
    "def whole_dice_metric(y_pred,y_true):\n",
    "    smooth = 10e-16\n",
    "    # single image so just roll it out into a 1D array\n",
    "    \n",
    "    m1 =np.reshape(y_pred,(-1))/255\n",
    "    m2 =np.reshape(y_true,(-1))/255\n",
    "    \n",
    "    \n",
    "    intersection = (m1 * m2)\n",
    "\n",
    "    score = 2. * (np.sum(intersection) + smooth) / (np.sum(m1) +(np.sum(m2) + smooth))\n",
    "        \n",
    "    return score\n",
    "\n",
    "def multiple_erosion(img,iter=5):\n",
    "    for j in (range(5)):\n",
    "        img=morphology.binary_erosion(img, selem=morphology.selem.disk(1))\n",
    "    return img\n",
    "\n",
    "def multiple_dialte(img,iter=5):\n",
    "    for j in (range(5)):\n",
    "        img=morphology.binary_dilation(img, selem=morphology.selem.disk(1))\n",
    "    return img\n",
    "\n",
    "def coord2array(coord):\n",
    "    x=[]\n",
    "    y=[]\n",
    "    for i in coord:\n",
    "        x.append(i[0])\n",
    "        y.append(i[1])\n",
    "    return (x,y)\n"
   ]
  },
  {
   "cell_type": "code",
   "execution_count": 6,
   "metadata": {},
   "outputs": [],
   "source": [
    "def img_recon(y_pred,bound_img,boundary_length=150,iter_limt=2,print_prompt=True):\n",
    "    smooth=1\n",
    "    \n",
    "    # args:\n",
    "    #y_pred : thresholded and post processed nuclei seeds.\n",
    "    #bound_img : raw_boundary predicitons.\n",
    "    #n_array_gt : GT N-array mask\n",
    "    #boundary_length : hyperparameter for growing nuclei seeds\n",
    "    #iter_limt : hyperparameter for growing nuclei seeds\n",
    "    #print_prompt : wheter or not to show progress bar\n",
    "    thresh_bound=0.2*255\n",
    "    bound_img=bound_img>thresh_bound\n",
    "    bound_img=multiple_dialte(bound_img,iter=3)\n",
    "    bound_img=multiple_erosion(bound_img,iter=3)\n",
    "\n",
    "    labeled_img=label(y_pred)\n",
    "    regions=regionprops(labeled_img)\n",
    "\n",
    "    final_image=np.zeros_like(y_pred,dtype=np.uint16)\n",
    "    if print_prompt:\n",
    "        loop=tqdm(regions)\n",
    "    else:\n",
    "        loop=regions\n",
    "    \n",
    "    for i,region in enumerate(loop):\n",
    "        coordinates=coord2array(list(region.coords))\n",
    "        x_temp=np.zeros_like(y_pred)\n",
    "        x_temp[coordinates]=1\n",
    "        boundary_score=0\n",
    "        iteration=0\n",
    "        while boundary_score<boundary_length and iteration<iter_limt:\n",
    "            iteration+=1\n",
    "            x_temp=morphology.binary_dilation(x_temp, selem=morphology.selem.disk(2)).astype(np.float)\n",
    "            boundary_score=len(np.where(x_temp*bound_img==1)[0])\n",
    "        \n",
    "        \n",
    "        final_image[np.where(x_temp==1)]=i\n",
    "    \n",
    " \n",
    "        \n",
    "    return final_image"
   ]
  },
  {
   "cell_type": "code",
   "execution_count": null,
   "metadata": {},
   "outputs": [],
   "source": [
    "\n",
    "img_list=[x for x in os.listdir('prediction_kumar') if 'nuc' in x and 'proc' not in x]\n",
    "avg=0\n",
    "for img_name in tqdm(img_list):\n",
    "    nuclei=imread('prediction_kumar/'+img_name)\n",
    "    thresh=threshold_otsu(nuclei)\n",
    "    nuclei=nuclei>thresh\n",
    "    nuclei=multiple_erosion(nuclei,iter=3)\n",
    "    \n",
    "    boundary=imread('prediction_kumar/'+'bound_'+'_'.join(img_name.split('_')[1:]))\n",
    "    \n",
    "    gt=imread('processed_data/nucleus_maps/'+img_name.split('.')[0].split('_')[1]+'_nucleus_mask.png')\n",
    "    img_pred=img_recon(nuclei,boundary,boundary_length=150,iter_limt=2,print_prompt=False)\n",
    "    \n",
    "    imsave('prediction_kumar/'+img_name.split('.')[0]+'_proc.png',img_pred.astype(np.float32))\n",
    "    \n",
    "    img_pred=img_pred>0\n",
    "    dice=whole_dice_metric(img_pred.astype(np.float32)*255,gt)\n",
    "    avg+=dice\n",
    "    print(img_name.split('.')[0].split('_')[1],' : ',dice,thresh)\n",
    "print(avg/len(img_list))"
   ]
  },
  {
   "cell_type": "markdown",
   "metadata": {},
   "source": [
    "TCGA-E2-A14V-01Z-00-DX1  :  0.8225290612209419<br/>\n",
    "TCGA-21-5786-01Z-00-DX1  :  0.6991805205647318<br/>\n",
    "TCGA-21-5784-01Z-00-DX1  :  0.7702200475923103<br/>\n",
    "TCGA-B0-5710-01Z-00-DX1  :  0.7629844577597736<br/>\n",
    "TCGA-G2-A2EK-01A-02-TSB  :  0.7624224458621036<br/>\n",
    "TCGA-CH-5767-01Z-00-DX1  :  0.7970872142252329<br/>\n",
    "TCGA-RD-A8N9-01A-01-TS1  :  0.8176449329279959<br/>\n",
    "TCGA-G9-6348-01Z-00-DX1  :  0.7966429519738157<br/>\n",
    "TCGA-DK-A2I6-01A-01-TS1  :  0.8649618223341795<br/>\n",
    "TCGA-KB-A93J-01A-01-TS1  :  0.8129848869951398<br/>\n",
    "TCGA-AY-A8YK-01A-01-TS1  :  0.7642849375366202<br/>\n",
    "TCGA-E2-A1B5-01Z-00-DX1  :  0.7747906286441217<br/>\n",
    "TCGA-NH-A8F7-01A-01-TS1  :  0.7865019409500186<br/>\n",
    "TCGA-HE-7128-01Z-00-DX1  :  0.6759419369045772<br/>\n",
    "0.77915555610654<br/>\n",
    "# Model 30th Jan 2020 model_optim.pth\n",
    "TCGA-21-5784-01Z-00-DX1  :  0.8116361668301593 108<br/>\n",
    "TCGA-RD-A8N9-01A-01-TS1  :  0.8782868692362495 117<br/>\n",
    "TCGA-CH-5767-01Z-00-DX1  :  0.815197744362616 115<br/>\n",
    "TCGA-AY-A8YK-01A-01-TS1  :  0.7743249219687112 114<br/>\n",
    "TCGA-G2-A2EK-01A-02-TSB  :  0.7873815363001121 108<br/>\n",
    "TCGA-G9-6348-01Z-00-DX1  :  0.8273699189706346 112<br/>\n",
    "TCGA-KB-A93J-01A-01-TS1  :  0.8798372531910145 118<br/>\n",
    "TCGA-DK-A2I6-01A-01-TS1  :  0.883796541868124 115<br/>\n",
    "TCGA-21-5786-01Z-00-DX1  :  0.7315855593758265 111<br/>\n",
    "TCGA-E2-A14V-01Z-00-DX1  :  0.8599896627535161 113<br/>\n",
    "TCGA-NH-A8F7-01A-01-TS1  :  0.7949021136999774 113<br/>\n",
    "TCGA-E2-A1B5-01Z-00-DX1  :  0.802531826634244 110<br/>\n",
    "TCGA-HE-7128-01Z-00-DX1  :  0.788953461927371 105<br/>\n",
    "TCGA-B0-5710-01Z-00-DX1  :  0.828047288316124 109<br/>\n",
    "0.8188457761024771<br/>\n",
    "\n",
    "# Model 31st 2 channel pred with only otsu\n",
    "TCGA-G9-6348-01Z-00-DX1  :  0.7819525407623568 108<br/>\n",
    "TCGA-KB-A93J-01A-01-TS1  :  0.8811115372673644 122<br/>\n",
    "TCGA-CH-5767-01Z-00-DX1  :  0.8138068067885593 111<br/>\n",
    "TCGA-DK-A2I6-01A-01-TS1  :  0.8401957024486049 118<br/>\n",
    "TCGA-NH-A8F7-01A-01-TS1  :  0.7201258488319375 124<br/>\n",
    "TCGA-B0-5710-01Z-00-DX1  :  0.8268603691132442 107<br/>\n",
    "TCGA-HE-7128-01Z-00-DX1  :  0.7434148978191721 94<br/>\n",
    "TCGA-21-5784-01Z-00-DX1  :  0.7782766771403891 108<br/>\n",
    "TCGA-E2-A1B5-01Z-00-DX1  :  0.7851957232741299 106<br/>\n",
    "TCGA-RD-A8N9-01A-01-TS1  :  0.8711696861502439 120<br/>\n",
    "TCGA-21-5786-01Z-00-DX1  :  0.7051864689168885 107<br/>\n",
    "TCGA-E2-A14V-01Z-00-DX1  :  0.8391341602292577 113<br/>\n",
    "TCGA-G2-A2EK-01A-02-TSB  :  0.6983577090485372 110<br/>\n",
    "TCGA-AY-A8YK-01A-01-TS1  :  0.6546214106691893 126<br/>\n",
    "0.7813863956042768<br/>\n",
    "# Model 31st 2 channel pred with boundary constratined growing of nuclei seeds\n",
    "TCGA-G9-6348-01Z-00-DX1  :  0.7193487672267217 108<br/>\n",
    "TCGA-KB-A93J-01A-01-TS1  :  0.7978143579195152 122<br/>\n",
    "TCGA-CH-5767-01Z-00-DX1  :  0.7869126701887118 111<br/>\n",
    "TCGA-DK-A2I6-01A-01-TS1  :  0.8429467108874303 118<br/>\n",
    "TCGA-NH-A8F7-01A-01-TS1  :  0.7064353205931725 124<br/>\n",
    "TCGA-B0-5710-01Z-00-DX1  :  0.7426428449341953 107<br/>\n",
    "TCGA-HE-7128-01Z-00-DX1  :  0.6464007628952234 94<br/>\n",
    "TCGA-21-5784-01Z-00-DX1  :  0.7619342935549388 108<br/>\n",
    "TCGA-E2-A1B5-01Z-00-DX1  :  0.751238314651544 106<br/>\n",
    "TCGA-RD-A8N9-01A-01-TS1  :  0.8106484504188964 120<br/>\n",
    "TCGA-21-5786-01Z-00-DX1  :  0.5648986336791768 107<br/>\n",
    "TCGA-E2-A14V-01Z-00-DX1  :  0.815677097344578 113<br/>\n",
    "TCGA-G2-A2EK-01A-02-TSB  :  0.760678717070453 110<br/>\n",
    "TCGA-AY-A8YK-01A-01-TS1  :  0.6709322769456747 126<br/>\n",
    "0.7413220870221593<br/>"
   ]
  },
  {
   "cell_type": "code",
   "execution_count": null,
   "metadata": {},
   "outputs": [],
   "source": [
    "\n",
    "img_list=[x for x in os.listdir('prediction_CoNSep') if 'test' in x and 'proc' not in x]\n",
    "avg=0\n",
    "for img_name in img_list:\n",
    "    img_pred=imread('prediction_CoNSep/'+img_name)\n",
    "    gt=np.load('other_data/CoNSeP/Test/Labels/'+'_'.join(img_name.split('_')[1:]).split('.')[0]+'.npy')[:,:,0]\n",
    "    gt=(gt>0).astype(np.uint8)*255\n",
    "    \n",
    "    thresh=threshold_otsu(img_pred)\n",
    "    img_pred=img_pred>thresh\n",
    "    \n",
    "    imsave('prediction_CoNSep/'+img_name.split('.')[0]+'_proc.png',img_pred.astype(np.float32))\n",
    "\n",
    "    dice=whole_dice_metric(img_pred.astype(np.float32)*255,gt)\n",
    "    avg+=dice\n",
    "    print(img_name.split('.')[0],' : ',dice,thresh)\n",
    "print(avg/len(img_list))"
   ]
  },
  {
   "cell_type": "code",
   "execution_count": 7,
   "metadata": {},
   "outputs": [
    {
     "name": "stdout",
     "output_type": "stream",
     "text": [
      "nuclei_gbm_image08  :  0.9004523281596453 120\n",
      "nuclei_lgg_image03  :  0.879105031109646 115\n",
      "nuclei_lgg_image08  :  0.8615869570834302 117\n",
      "nuclei_gbm_image04  :  0.8934956209744733 117\n",
      "nuclei_lung_image03  :  0.8536544432323572 119\n",
      "nuclei_hnsc_image07  :  0.8329886978443758 116\n",
      "nuclei_lgg_image05  :  0.8849932894802247 111\n",
      "nuclei_lgg_image06  :  0.8554616852067487 112\n",
      "nuclei_lung_image01  :  0.6672766502012327 108\n",
      "nuclei_hnsc_image08  :  0.8253571536898299 114\n",
      "nuclei_gbm_image03  :  0.8489450763181261 113\n",
      "nuclei_lung_image05  :  0.9113640224222864 117\n",
      "nuclei_hnsc_image06  :  0.7976550969889047 107\n",
      "nuclei_lung_image06  :  0.9075399796421391 115\n",
      "nuclei_gbm_image06  :  0.8662990874726122 112\n",
      "nuclei_lung_image02  :  0.7927961982935522 118\n",
      "nuclei_lgg_image01  :  0.8506631247150249 115\n",
      "nuclei_hnsc_image03  :  0.866154184658544 119\n",
      "nuclei_gbm_image07  :  0.8810295957713031 118\n",
      "nuclei_lgg_image02  :  0.8675806247323566 117\n",
      "nuclei_lung_image07  :  0.9173411265667449 117\n",
      "nuclei_hnsc_image01  :  0.786990135963743 107\n",
      "nuclei_gbm_image01  :  0.7867059945179359 101\n",
      "nuclei_gbm_image02  :  0.788690384674518 103\n",
      "nuclei_gbm_image05  :  0.883553137382459 111\n",
      "nuclei_lung_image08  :  0.8780677953147094 117\n",
      "nuclei_lung_image04  :  0.8711251541079457 119\n",
      "nuclei_hnsc_image04  :  0.8324852483979442 114\n",
      "nuclei_lgg_image07  :  0.8545211822160637 114\n",
      "nuclei_hnsc_image02  :  0.8315568042241391 117\n",
      "nuclei_hnsc_image05  :  0.8395852935432904 110\n",
      "nuclei_lgg_image04  :  0.817326617822049 115\n",
      "0.847885866335261\n"
     ]
    }
   ],
   "source": [
    "img_list=[x for x in os.listdir('prediction_CPM_17') if 'nuclei' in x and 'proc' not in x]\n",
    "avg=0\n",
    "for img_name in img_list:\n",
    "    \n",
    "    img_pred=imread('prediction_CPM_17/'+img_name)\n",
    "    gt=imread('other_data/CPM_17/Test/NucleiMaps/'+'_'.join(img_name.split('_')[1:]).split('.')[0]+'.png')\n",
    "    \n",
    "    \n",
    "    thresh=threshold_otsu(img_pred)\n",
    "    img_pred=img_pred>thresh\n",
    "    \n",
    "#     imsave('prediction_CPM_17/'+img_name.split('.')[0]+'_proc.png',img_pred.astype(np.float32))\n",
    "\n",
    "    dice=whole_dice_metric(img_pred.astype(np.float32)*255,gt)\n",
    "    avg+=dice\n",
    "    print(img_name.split('.')[0],' : ',dice,thresh)\n",
    "print(avg/len(img_list))\n"
   ]
  },
  {
   "cell_type": "code",
   "execution_count": null,
   "metadata": {},
   "outputs": [
    {
     "name": "stderr",
     "output_type": "stream",
     "text": [
      "Lossy conversion from float32 to uint8. Range [0.0, 255.0]. Convert image to uint8 prior to saving to suppress this warning.\n"
     ]
    },
    {
     "name": "stdout",
     "output_type": "stream",
     "text": [
      "nuclei_gbm_image08  :  1.045108307950774 120\n"
     ]
    },
    {
     "name": "stderr",
     "output_type": "stream",
     "text": [
      "Lossy conversion from float32 to uint8. Range [0.0, 255.0]. Convert image to uint8 prior to saving to suppress this warning.\n"
     ]
    },
    {
     "name": "stdout",
     "output_type": "stream",
     "text": [
      "nuclei_lgg_image03  :  0.9928117276847764 115\n"
     ]
    },
    {
     "name": "stderr",
     "output_type": "stream",
     "text": [
      "Lossy conversion from float32 to uint8. Range [0.0, 255.0]. Convert image to uint8 prior to saving to suppress this warning.\n"
     ]
    },
    {
     "name": "stdout",
     "output_type": "stream",
     "text": [
      "nuclei_lgg_image08  :  1.069677220470802 117\n"
     ]
    },
    {
     "name": "stderr",
     "output_type": "stream",
     "text": [
      "Lossy conversion from float32 to uint8. Range [0.0, 255.0]. Convert image to uint8 prior to saving to suppress this warning.\n"
     ]
    },
    {
     "name": "stdout",
     "output_type": "stream",
     "text": [
      "nuclei_gbm_image04  :  0.6457069740625538 117\n"
     ]
    },
    {
     "name": "stderr",
     "output_type": "stream",
     "text": [
      "Lossy conversion from float32 to uint8. Range [0.0, 255.0]. Convert image to uint8 prior to saving to suppress this warning.\n"
     ]
    },
    {
     "name": "stdout",
     "output_type": "stream",
     "text": [
      "nuclei_lung_image03  :  0.4945561908338399 119\n"
     ]
    },
    {
     "name": "stderr",
     "output_type": "stream",
     "text": [
      "Lossy conversion from float32 to uint8. Range [0.0, 255.0]. Convert image to uint8 prior to saving to suppress this warning.\n"
     ]
    },
    {
     "name": "stdout",
     "output_type": "stream",
     "text": [
      "nuclei_hnsc_image07  :  0.30367045603922943 116\n"
     ]
    },
    {
     "name": "stderr",
     "output_type": "stream",
     "text": [
      "Lossy conversion from float32 to uint8. Range [0.0, 255.0]. Convert image to uint8 prior to saving to suppress this warning.\n"
     ]
    },
    {
     "name": "stdout",
     "output_type": "stream",
     "text": [
      "nuclei_lgg_image05  :  0.5741601059816842 111\n"
     ]
    },
    {
     "name": "stderr",
     "output_type": "stream",
     "text": [
      "Lossy conversion from float32 to uint8. Range [0.0, 255.0]. Convert image to uint8 prior to saving to suppress this warning.\n"
     ]
    }
   ],
   "source": [
    "img_list=[x for x in os.listdir('prediction_CPM_17') if 'nuclei' in x and 'proc' not in x]\n",
    "avg=0\n",
    "for img_name in img_list:\n",
    "    \n",
    "    nuclei=imread('prediction_CPM_17/'+img_name)\n",
    "    thresh=threshold_otsu(nuclei)\n",
    "    nuclei=nuclei>thresh\n",
    "    nuclei=multiple_erosion(nuclei,iter=1)\n",
    "    \n",
    "    boundary=imread('prediction_CPM_17/'+'bound_'+'_'.join(img_name.split('_')[1:]))\n",
    "    \n",
    "    thresh_bound=threshold_otsu(boundary)\n",
    "    boundary=boundary>thresh_bound\n",
    "#     boundary=multiple_dialte(boundary,iter=2)\n",
    "    \n",
    "    gt=imread('other_data/CPM_17/Test/NucleiMaps/'+'_'.join(img_name.split('_')[1:]).split('.')[0]+'.png')\n",
    "    \n",
    "#     img_pred=img_recon(nuclei,boundary,boundary_length=150,iter_limt=2,print_prompt=False)\n",
    "    img_pred=nuclei.astype(np.uint8)-boundary.astype(np.uint8)\n",
    "#     img_pred=multiple_dialte(img_pred,iter=1)\n",
    "    dice=whole_dice_metric(img_pred.astype(np.float32)*255,gt)\n",
    "    imsave('prediction_CPM_17/'+img_name.split('.')[0]+'_proc.png',img_pred.astype(np.float32))\n",
    "\n",
    "    dice=whole_dice_metric(img_pred.astype(np.float32)*255,gt)\n",
    "    avg+=dice\n",
    "    print(img_name.split('.')[0],' : ',dice,thresh)\n",
    "print(avg/len(img_list))\n"
   ]
  },
  {
   "cell_type": "markdown",
   "metadata": {},
   "source": [
    "# model 4th feb, predicts only nuclei\n",
    "\n",
    "nuclei_gbm_image01  :  0.7277193766051461 108<br/>\n",
    "nuclei_lgg_image02  :  0.8795810296965031 120<br/>\n",
    "nuclei_lgg_image04  :  0.8498570690545892 120<br/>\n",
    "nuclei_gbm_image05  :  0.8793331994376381 115<br/>\n",
    "nuclei_lung_image05  :  0.9245344129554656 119<br/>\n",
    "nuclei_lung_image08  :  0.8866071888262075 118<br/>\n",
    "nuclei_gbm_image04  :  0.901806647358985 119<br/>\n",
    "nuclei_gbm_image02  :  0.7480424652927895 110<br/>\n",
    "nuclei_hnsc_image03  :  0.8753627522274856 123<br/>\n",
    "nuclei_hnsc_image04  :  0.8324088699506544 121<br/>\n",
    "nuclei_gbm_image08  :  0.8804250959880733 123<br/>\n",
    "nuclei_lung_image06  :  0.9121998339236388 119<br/>\n",
    "nuclei_lgg_image03  :  0.8737407376571477 117<br/>\n",
    "nuclei_lgg_image05  :  0.8594481376923777 111<br/>\n",
    "nuclei_lgg_image06  :  0.8453096210846751 113<br/>\n",
    "nuclei_gbm_image06  :  0.8566324907627181 115<br/>\n",
    "nuclei_gbm_image03  :  0.8456073644186511 118<br/>\n",
    "nuclei_lung_image02  :  0.7613867304243873 117<br/>\n",
    "nuclei_gbm_image07  :  0.8679014858538571 119<br/>\n",
    "nuclei_lung_image03  :  0.8728274257561243 117<br/>\n",
    "nuclei_hnsc_image01  :  0.8321472120607472 111<br/>\n",
    "nuclei_hnsc_image05  :  0.8198542347323448 118<br/>\n",
    "nuclei_lung_image07  :  0.9227191260561577 120<br/>\n",
    "nuclei_hnsc_image06  :  0.8079416106090396 116<br/>\n",
    "nuclei_lgg_image08  :  0.8623812006255764 121<br/>\n",
    "nuclei_lung_image01  :  0.7257110540330373 112<br/>\n",
    "nuclei_lgg_image01  :  0.8665360156781187 117<br/>\n",
    "nuclei_hnsc_image02  :  0.8480114118805828 120<br/>\n",
    "nuclei_hnsc_image07  :  0.841697827604559 119<br/>\n",
    "nuclei_lgg_image07  :  0.8837092227144583 115<br/>\n",
    "nuclei_lung_image04  :  0.8561029083091506 119<br/>\n",
    "nuclei_hnsc_image08  :  0.8350518485518164 119<br/>\n",
    "0.8494561127444595<br/>"
   ]
  }
 ],
 "metadata": {
  "kernelspec": {
   "display_name": "Python 3",
   "language": "python",
   "name": "python3"
  },
  "language_info": {
   "codemirror_mode": {
    "name": "ipython",
    "version": 3
   },
   "file_extension": ".py",
   "mimetype": "text/x-python",
   "name": "python",
   "nbconvert_exporter": "python",
   "pygments_lexer": "ipython3",
   "version": "3.6.7"
  }
 },
 "nbformat": 4,
 "nbformat_minor": 2
}
