{
 "cells": [
  {
   "cell_type": "code",
   "execution_count": 7,
   "metadata": {},
   "outputs": [],
   "source": [
    "import matplotlib.pyplot as plt\n",
    "import os\n",
    "from tqdm import tqdm_notebook as tqdm\n",
    "from skimage.measure import label, regionprops\n",
    "import skimage\n",
    "from skimage.io import imread,imsave\n",
    "from skimage.filters import threshold_otsu\n",
    "import numpy as np\n",
    "import regex as re\n",
    "from skimage import morphology\n",
    "import warnings\n",
    "warnings.filterwarnings('ignore')\n",
    "import scipy.ndimage as ndimage\n",
    "from scipy import ndimage as ndi\n",
    "from skimage.feature import peak_local_max\n",
    "\n",
    "import math\n",
    "from Models import DualEncoding_U_Net,load_model\n",
    "from skimage.morphology import watershed,remove_small_holes,remove_small_objects\n",
    "from Metrics import get_fast_aji,get_fast_aji_plus,get_fast_pq,get_fast_dice_2,remap_label"
   ]
  },
  {
   "cell_type": "markdown",
   "metadata": {},
   "source": [
    "# Functions"
   ]
  },
  {
   "cell_type": "code",
   "execution_count": 8,
   "metadata": {},
   "outputs": [],
   "source": [
    "def whole_dice_metric(y_pred,y_true):\n",
    "    smooth = 10e-16\n",
    "    # single image so just roll it out into a 1D array\n",
    "    \n",
    "    m1 =np.reshape(y_pred,(-1))/255\n",
    "    m2 =np.reshape(y_true,(-1))/255\n",
    "    \n",
    "    \n",
    "    intersection = (m1 * m2)\n",
    "\n",
    "    score = 2. * (np.sum(intersection) + smooth) / (np.sum(m1) +(np.sum(m2) + smooth))\n",
    "        \n",
    "    return score\n",
    "\n",
    "def multiple_erosion(img,iter_count=5,selem=morphology.selem.disk(1)):\n",
    "    for j in (range(iter_count)):\n",
    "        img=morphology.binary_erosion(img, selem=selem)\n",
    "    return img\n",
    "\n",
    "def multiple_dialte(img,iter_count=5,selem=morphology.selem.disk(1)):\n",
    "    for j in (range(iter_count)):\n",
    "        img=morphology.binary_dilation(img, selem=selem)\n",
    "    return img\n",
    "\n",
    "def coord2array(coord):\n",
    "    x=[]\n",
    "    y=[]\n",
    "    for i in coord:\n",
    "        x.append(i[0])\n",
    "        y.append(i[1])\n",
    "    return (x,y)\n",
    "def sort_n_array(img):\n",
    "    img_labels=label(img)\n",
    "    img_regions=regionprops(img_labels)\n",
    "    final_gt=np.zeros_like(img)\n",
    "    for i,region in enumerate(img_regions):\n",
    "        coordinates=coord2array(list(region.coords))\n",
    "        final_gt[coordinates]=i+1\n",
    "        \n",
    "    return final_gt"
   ]
  },
  {
   "cell_type": "markdown",
   "metadata": {},
   "source": [
    "# best post proc for CPM17\n",
    "def img_recon_CPM17(nuclei,boundary,boundary_length=200,print_prompt=True):\n",
    "    \n",
    "    nuclei=nuclei>threshold_otsu(nuclei)\n",
    "    nuclei=nuclei.astype(np.float32)\n",
    "    boundary=boundary>50\n",
    "   \n",
    "    boundary=boundary.astype(np.float32)\n",
    "    \n",
    "    \n",
    "    nuclei_seeds=nuclei-boundary\n",
    "    \n",
    "    nuclei_seeds[np.where(nuclei_seeds<0)]=0\n",
    "    area=len(np.where(nuclei_seeds==1)[0])\n",
    "    total_area=nuclei_seeds.shape[0]*nuclei_seeds.shape[1]\n",
    "\n",
    "    if area/total_area>0.15 and area/total_area<0.30:\n",
    "        nuclei_seeds=multiple_erosion(nuclei_seeds,2)\n",
    "        iter_count=2\n",
    "    elif area/total_area>0.30:\n",
    "        nuclei_seeds=multiple_erosion(nuclei_seeds,3)\n",
    "        iter_count=3\n",
    "    elif area/total_area>0.06 and area/total_area<0.15:\n",
    "        nuclei_seeds=multiple_erosion(nuclei_seeds,1)\n",
    "        iter_count=2\n",
    "    else:\n",
    "#         nuclei_seeds=multiple_erosion(nuclei_seeds,1)\n",
    "        iter_count=2\n",
    "\n",
    "    # args:\n",
    "    #nuclei : raw nuclei image.\n",
    "    #boundary : raw_boundary predicitons.\n",
    "    #n_array_gt : GT N-array mask\n",
    "    #boundary_length : hyperparameter for growing nuclei seeds\n",
    "    #iter_limt : hyperparameter for growing nuclei seeds\n",
    "    #print_prompt : wheter or not to show progress bar\n",
    "    \n",
    "\n",
    "    labeled_img=label(nuclei_seeds)\n",
    "    regions=regionprops(labeled_img)\n",
    "\n",
    "    final_image=np.zeros_like(nuclei_seeds)\n",
    "    if print_prompt:\n",
    "        loop=tqdm(regions)\n",
    "    else:\n",
    "        loop=regions\n",
    "    \n",
    "    for i,region in enumerate(loop):\n",
    "        \n",
    " \n",
    "        coordinates=coord2array(list(region.coords))\n",
    "        x_temp=np.zeros_like(nuclei_seeds)\n",
    "        x_temp[coordinates]=1\n",
    "    \n",
    "        boundary_score=0\n",
    "        iteration=0\n",
    "        while boundary_score<boundary_length and iteration<iter_count:\n",
    "            iteration+=1\n",
    "            x_temp=morphology.binary_dilation(x_temp, selem=morphology.selem.disk(2)).astype(np.uint8)\n",
    "            boundary_score=len(np.where(x_temp*boundary==1)[0])\n",
    "\n",
    "\n",
    "\n",
    "        final_image[np.where(x_temp==1)]=i+1\n",
    "        final_image=final_image.astype(np.float32)\n",
    "\n",
    " \n",
    "        \n",
    "    return final_image,area"
   ]
  },
  {
   "cell_type": "code",
   "execution_count": 53,
   "metadata": {},
   "outputs": [],
   "source": [
    "def img_recon_CPM17(nuclei,boundary,boundary_length=200,print_prompt=True):\n",
    "    \n",
    "    nuclei=nuclei>threshold_otsu(nuclei)\n",
    "    nuclei=nuclei.astype(np.float32)\n",
    "    boundary=boundary>50\n",
    "   \n",
    "    boundary=boundary.astype(np.float32)\n",
    "    \n",
    "    \n",
    "    nuclei_seeds=nuclei-boundary\n",
    "    \n",
    "    nuclei_seeds[np.where(nuclei_seeds<0)]=0\n",
    "    area=len(np.where(nuclei_seeds==1)[0])\n",
    "    total_area=nuclei_seeds.shape[0]*nuclei_seeds.shape[1]\n",
    "\n",
    "    if area/total_area>0.15 and area/total_area<0.30:\n",
    "        nuclei_seeds=multiple_erosion(nuclei_seeds,2)\n",
    "        iter_count=2\n",
    "    elif area/total_area>0.30:\n",
    "        nuclei_seeds=multiple_erosion(nuclei_seeds,3)\n",
    "        iter_count=3\n",
    "    elif area/total_area>0.06 and area/total_area<0.15:\n",
    "        nuclei_seeds=multiple_erosion(nuclei_seeds,1)\n",
    "        iter_count=2\n",
    "    else:\n",
    "#         nuclei_seeds=multiple_erosion(nuclei_seeds,1)\n",
    "        iter_count=2\n",
    "\n",
    "    # args:\n",
    "    #nuclei : raw nuclei image.\n",
    "    #boundary : raw_boundary predicitons.\n",
    "    #n_array_gt : GT N-array mask\n",
    "    #boundary_length : hyperparameter for growing nuclei seeds\n",
    "    #iter_limt : hyperparameter for growing nuclei seeds\n",
    "    #print_prompt : wheter or not to show progress bar\n",
    "    \n",
    "\n",
    "    labeled_img=label(nuclei_seeds)\n",
    "    regions=regionprops(labeled_img)\n",
    "\n",
    "    final_image=np.zeros_like(nuclei_seeds)\n",
    "    if print_prompt:\n",
    "        loop=tqdm(regions)\n",
    "    else:\n",
    "        loop=regions\n",
    "    \n",
    "    for i,region in enumerate(loop):\n",
    "        \n",
    " \n",
    "        coordinates=coord2array(list(region.coords))\n",
    "        x_temp=np.zeros_like(nuclei_seeds)\n",
    "        x_temp[coordinates]=1\n",
    "    \n",
    "        boundary_score=0\n",
    "        iteration=0\n",
    "        while boundary_score<boundary_length and iteration<iter_count:\n",
    "            iteration+=1\n",
    "            x_temp=morphology.binary_dilation(x_temp, selem=morphology.selem.disk(2)).astype(np.uint8)\n",
    "            boundary_score=len(np.where(x_temp*boundary==1)[0])\n",
    "\n",
    "\n",
    "\n",
    "        final_image[np.where(x_temp==1)]=i+1\n",
    "        final_image=final_image.astype(np.float32)\n",
    "\n",
    " \n",
    "        \n",
    "    return final_image,area\n",
    "\n",
    "\n",
    "def watershed_seg(nuclei,boundary):\n",
    "    \n",
    "    nuclei_th=(nuclei>0.25*255).astype(np.float32)\n",
    "    boundary_th=(boundary>0.25*255).astype(np.float32)\n",
    "   \n",
    "    \n",
    "    nuclei_seeds=nuclei_th-boundary_th\n",
    "    nuclei_seeds[np.where(nuclei_seeds<0)]=0\n",
    "    nuclei_seeds=nuclei_seeds.astype(np.uint8)\n",
    "    nuclei_seeds=remove_small_holes(nuclei_seeds)\n",
    "    nuclei_seeds=label(nuclei_seeds)\n",
    "#     nuclei_seeds=remove_small_objects(nuclei_seeds)\n",
    "    nuclei_distance_map=ndi.distance_transform_edt(nuclei_seeds)\n",
    "    \n",
    "    \n",
    "    local_maxi = peak_local_max(nuclei_distance_map, indices=False, footprint=np.ones((3, 3)),\n",
    "                                labels=nuclei_th)\n",
    "    markers = ndi.label(local_maxi)[0]\n",
    "    seg_image = watershed(-nuclei_distance_map, markers, mask=nuclei_th)\n",
    "    \n",
    "    \n",
    "    return seg_image"
   ]
  },
  {
   "cell_type": "markdown",
   "metadata": {},
   "source": [
    "# CPM 17 Reconstruction by dialation "
   ]
  },
  {
   "cell_type": "code",
   "execution_count": 54,
   "metadata": {},
   "outputs": [
    {
     "data": {
      "application/vnd.jupyter.widget-view+json": {
       "model_id": "988a9c2813914dc2810c51fde486ee9e",
       "version_major": 2,
       "version_minor": 0
      },
      "text/plain": [
       "HBox(children=(IntProgress(value=0, max=32), HTML(value='')))"
      ]
     },
     "metadata": {},
     "output_type": "display_data"
    },
    {
     "name": "stdout",
     "output_type": "stream",
     "text": [
      "nuclei_gbm_image01  :  0.8014205898912902 0.4985592907277429 0.651685393258427 0.7413393253228889 0.48312000976098385\n",
      "nuclei_lgg_image02  :  0.877773990212675 0.683384288669608 0.8675496688741722 0.790135522304887 0.6854818107413259\n",
      "nuclei_lgg_image04  :  0.8461149112785434 0.6405576903910256 0.8152866242038217 0.7473041065702627 0.6092670422993225\n",
      "nuclei_gbm_image05  :  0.8887641060010506 0.6062453531598513 0.7640449438202247 0.7850769705590114 0.5998340898653121\n",
      "nuclei_lung_image05  :  0.9223797825184912 0.6757216117216117 0.8300395256916996 0.8302441287140002 0.6891354428060871\n",
      "nuclei_lung_image08  :  0.88030831666691 0.6660904540781164 0.7915690866510539 0.7943093531182315 0.6287507291661879\n",
      "nuclei_gbm_image04  :  0.8978515625 0.7540820245596188 0.9204301075268817 0.8098972169155808 0.7454537824513303\n",
      "nuclei_gbm_image02  :  0.8089264067999591 0.45814888656101105 0.6177606177606177 0.7307193006451349 0.4514096065761451\n",
      "nuclei_hnsc_image03  :  0.8732022247363037 0.752896068827662 0.8155339805825242 0.8421684272084116 0.6868169697621997\n",
      "nuclei_hnsc_image04  :  0.8594990439091388 0.6673443528254784 0.8082901554404145 0.7938742632868181 0.6416807516722467\n",
      "nuclei_gbm_image08  :  0.9214126246649025 0.5729123078078562 0.6956521739130435 0.8380534936779858 0.5829937347325118\n",
      "nuclei_lung_image06  :  0.9167660778780574 0.661045631681186 0.7906976744186046 0.8226023535170156 0.6504297678971751\n",
      "nuclei_lgg_image03  :  0.9066119824862827 0.7642938665749441 0.8975609756097561 0.832716353728713 0.7474137028589424\n",
      "nuclei_lgg_image05  :  0.8691965571305155 0.7176038121170865 0.8468468468468469 0.7654069500979737 0.6481824622451309\n",
      "nuclei_lgg_image06  :  0.8327923409540996 0.6305405356529288 0.7017543859649122 0.7828448450468983 0.549364803541683\n",
      "nuclei_gbm_image06  :  0.8630963972736124 0.7038867750080011 0.8266666666666667 0.8002128171281928 0.661509262159306\n",
      "nuclei_gbm_image03  :  0.8255044037728777 0.6578950677043388 0.8140703517587939 0.7393167474871 0.6018558446879909\n",
      "nuclei_lung_image02  :  0.7393418787706603 0.4964650979208507 0.6433566433566433 0.7550239610643344 0.48574968124418716\n",
      "nuclei_gbm_image07  :  0.8758601187670846 0.6045254043456951 0.7289719626168224 0.8200362365371655 0.5977834247654104\n",
      "nuclei_lung_image03  :  0.8703512124984657 0.5774786527514232 0.7555555555555555 0.7787547716787536 0.5883924941572805\n",
      "nuclei_hnsc_image01  :  0.8214007782101167 0.567687552683338 0.6792452830188679 0.7669947576941427 0.520977571263946\n",
      "nuclei_hnsc_image05  :  0.8723902120481054 0.7059156187216311 0.845771144278607 0.8067422324400993 0.6823193010687407\n",
      "nuclei_lung_image07  :  0.9228528616841014 0.7015493486302471 0.84375 0.8415722251239683 0.7100765649483483\n",
      "nuclei_hnsc_image06  :  0.8482645148021342 0.6684249899296031 0.8262108262108262 0.7646732711882944 0.6317813351698159\n",
      "nuclei_lgg_image08  :  0.8563319128407172 0.6743961106727416 0.8015267175572519 0.808700970080067 0.6481954340336415\n",
      "nuclei_lung_image01  :  0.7924377135099647 0.5357770483106203 0.5900383141762452 0.8066930311449229 0.47597979615447555\n",
      "nuclei_lgg_image01  :  0.791713747645951 0.5898992059460471 0.8188976377952756 0.6837911056586996 0.5599549211693288\n",
      "nuclei_hnsc_image02  :  0.8179892813327306 0.5696480207398544 0.7215909090909091 0.8387272103642308 0.6052179302060074\n",
      "nuclei_hnsc_image07  :  0.8328272774191818 0.6215556188693069 0.8210526315789474 0.718750629809073 0.5901320960537652\n",
      "nuclei_lgg_image07  :  0.8997469904758835 0.6562522462084002 0.8349514563106796 0.8171785542270742 0.6823044239177513\n",
      "nuclei_lung_image04  :  0.8678710951682472 0.4665825777227762 0.6772151898734177 0.7929076750830371 0.5369691217334491\n",
      "nuclei_hnsc_image08  :  0.8363014196491974 0.5153276955602537 0.6917960088691796 0.7472286379130932 0.5169297894210312\n",
      "DICE :  0.8574156979217891\n",
      "AJI :  0.6269591627212767\n",
      "DQ :  0.7729802956024278\n",
      "SQ :  0.7873124201667521\n",
      "PQ :  0.6092332405790957\n"
     ]
    }
   ],
   "source": [
    "pred_dir='prediction_dual_2_CPM_17'\n",
    "img_list=[x for x in os.listdir(pred_dir) if 'nuclei' in x and 'proc' not in x and 'GT' not in x]\n",
    "avg_aji=0\n",
    "avg=0\n",
    "dq_avg=0\n",
    "sq_avg=0\n",
    "pq_avg=0\n",
    "for img_name in tqdm(img_list):#['nuclei_gbm_image01.png']:\n",
    "    \n",
    "    nuclei=imread(pred_dir+'/'+img_name)\n",
    "    \n",
    "    \n",
    "\n",
    "    boundary=imread((pred_dir+'/'+'bound_'+'_'.join(img_name.split('_')[1:])))\n",
    "    gt=imread('other_data/CPM_17/Test/NucleiMaps/'+'_'.join(img_name.split('_')[1:]).split('.')[0]+'.png')\n",
    "  \n",
    "    img_pred,_=img_recon_CPM17(nuclei,boundary,print_prompt=False)#watershed_seg(nuclei,boundary)#\n",
    "    img_pred=remap_label(img_pred,True)\n",
    "    \n",
    "    dice_img=(img_pred>0).astype(np.uint8)*255\n",
    "    dice=whole_dice_metric(dice_img,gt)\n",
    "\n",
    "    f = open('other_data/CPM_17/Test/GT_Mask/'+'_'.join(img_name.split('_')[1:]).split('.')[0]+'_mask.txt', 'r')\n",
    "    x = f.readlines()\n",
    "\n",
    "    n_array=np.array([int(a) for a in x[1:]]).reshape(list(map(int, re.findall('\\d+', x[0]))))\n",
    "    n_array=remap_label(n_array,True)\n",
    "#     plt.imshow(n_array);plt.show()\n",
    "#     imsave((pred_dir+'/'+img_name.split('.')[0]+'_GT.png',n_array.astype(np.int16))\n",
    "    img_pred=img_pred.astype(np.int16)\n",
    "    aji=get_fast_aji(n_array,img_pred)\n",
    "    pq,_=get_fast_pq(n_array,img_pred)\n",
    "    dq=pq[0]\n",
    "    sq=pq[1]\n",
    "    pq=pq[-1]\n",
    "    \n",
    "    \n",
    "#     imsave((pred_dir+'/'+img_name.split('.')[0]+'_proc.png',img_pred.astype(np.int16))\n",
    "\n",
    "    avg+=dice\n",
    "    avg_aji+=aji\n",
    "    dq_avg+=dq\n",
    "    sq_avg+=sq\n",
    "    pq_avg+=pq\n",
    "    print(img_name.split('.')[0],' : ',dice,aji,dq,sq,pq)\n",
    "print(\"DICE : \",avg/len(img_list))\n",
    "print(\"AJI : \",avg_aji/len(img_list))\n",
    "print(\"DQ : \",dq_avg/len(img_list))\n",
    "print(\"SQ : \",sq_avg/len(img_list))\n",
    "print(\"PQ : \",pq_avg/len(img_list))\n"
   ]
  },
  {
   "cell_type": "markdown",
   "metadata": {},
   "source": [
    "# BEST CPM 17 dialation \n",
    "nuclei_gbm_image01  :  0.8214666279182408 12868<br/>\n",
    "nuclei_lgg_image02  :  0.871614730878187 64306<br/>\n",
    "nuclei_lgg_image04  :  0.8228840588270038 41948<br/>\n",
    "nuclei_gbm_image05  :  0.8945122519332899 16635<br/>\n",
    "nuclei_lung_image05  :  0.8967014977589723 52581<br/>\n",
    "nuclei_lung_image08  :  0.8757263674277889 43220<br/>\n",
    "nuclei_gbm_image04  :  0.8841680624690368 55356<br/>\n",
    "nuclei_gbm_image02  :  0.7925804468128715 11195<br/>\n",
    "nuclei_hnsc_image03  :  0.8868635778021663 58493<br/>\n",
    "nuclei_hnsc_image04  :  0.8471280383960366 54710<br/>\n",
    "nuclei_gbm_image08  :  0.9125669596006607 41017<br/>\n",
    "nuclei_lung_image06  :  0.9118775898376469 44832<br/>\n",
    "nuclei_lgg_image03  :  0.8690029420020168 31731<br/>\n",
    "nuclei_lgg_image05  :  0.8358029450312235 21205<br/>\n",
    "nuclei_lgg_image06  :  0.8289500267395568 29558<br/>\n",
    "nuclei_gbm_image06  :  0.8605572485851111 14334<br/>\n",
    "nuclei_gbm_image03  :  0.8747670485157347 44686<br/>\n",
    "nuclei_lung_image02  :  0.8159096441263813 41334<br/>\n",
    "nuclei_gbm_image07  :  0.8958297068112302 26885<br/>\n",
    "nuclei_lung_image03  :  0.8657846436219028 34675<br/>\n",
    "nuclei_hnsc_image01  :  0.8072174361824606 13508<br/>\n",
    "nuclei_hnsc_image05  :  0.8295879643401209 42940<br/>\n",
    "nuclei_lung_image07  :  0.9064625496599206 54217<br/>\n",
    "nuclei_hnsc_image06  :  0.8209365064071683 59521<br/>\n",
    "nuclei_lgg_image08  :  0.8726363494295983 39956<br/>\n",
    "nuclei_lung_image01  :  0.7938195935348232 56722<br/>\n",
    "nuclei_lgg_image01  :  0.7761772950863026 19420<br/>\n",
    "nuclei_hnsc_image02  :  0.843762329361635 56059<br/>\n",
    "nuclei_hnsc_image07  :  0.8488544610039589 46205<br/>\n",
    "nuclei_lgg_image07  :  0.8883423816373563 19562<br/>\n",
    "nuclei_lung_image04  :  0.8555564148171062 46814<br/>\n",
    "nuclei_hnsc_image08  :  0.8295273080200204 63858<br/>\n",
    "0.8542992188929854<br/>\n",
    "\n",
    "\n",
    "if area>30000 and area<50000:<br/>\n",
    "         <p>nuclei_seeds=multiple_erosion(nuclei_seeds,2</p>)<br/>\n",
    "         <p>iter_count=2</p><br/>\n",
    "elif area>50000:<br/>\n",
    "   <p> nuclei_seeds=multiple_erosion(nuclei_seeds,3)</p><br/>\n",
    "    <p>iter_count=3</p><br/>\n",
    "else:<br/>\n",
    "    <p>iter_count=2</p><br/>"
   ]
  },
  {
   "cell_type": "markdown",
   "metadata": {},
   "source": [
    "# prediction of kumar"
   ]
  },
  {
   "cell_type": "code",
   "execution_count": null,
   "metadata": {},
   "outputs": [],
   "source": [
    "\n",
    "img_list=[x for x in os.listdir('prediction_kumar') if 'nuc' in x and 'proc' not in x]\n",
    "avg=0\n",
    "for img_name in tqdm(img_list):\n",
    "    nuclei=imread('prediction_kumar/'+img_name)\n",
    "    thresh=threshold_otsu(nuclei)\n",
    "    nuclei=nuclei>thresh\n",
    "#     nuclei=multiple_erosion(nuclei,iter=3)\n",
    "    \n",
    "#     boundary=imread('prediction_kumar/'+'bound_'+'_'.join(img_name.split('_')[1:]))\n",
    "    \n",
    "    gt=imread('processed_data/nucleus_maps/'+img_name.split('.')[0].split('_')[1]+'_nucleus_mask.png')\n",
    "#     img_pred=img_recon(nuclei,boundary,boundary_length=150,iter_limt=2,print_prompt=False)\n",
    "    img_pred=nuclei\n",
    "    imsave('prediction_kumar/'+img_name.split('.')[0]+'_proc.png',img_pred.astype(np.float32))\n",
    "    \n",
    "    img_pred=img_pred>0\n",
    "    dice=whole_dice_metric(img_pred.astype(np.float32)*255,gt)\n",
    "    avg+=dice\n",
    "    print(img_name.split('.')[0].split('_')[1],' : ',dice,thresh)\n",
    "print(avg/len(img_list))"
   ]
  },
  {
   "cell_type": "markdown",
   "metadata": {},
   "source": [
    "TCGA-E2-A14V-01Z-00-DX1  :  0.8225290612209419<br/>\n",
    "TCGA-21-5786-01Z-00-DX1  :  0.6991805205647318<br/>\n",
    "TCGA-21-5784-01Z-00-DX1  :  0.7702200475923103<br/>\n",
    "TCGA-B0-5710-01Z-00-DX1  :  0.7629844577597736<br/>\n",
    "TCGA-G2-A2EK-01A-02-TSB  :  0.7624224458621036<br/>\n",
    "TCGA-CH-5767-01Z-00-DX1  :  0.7970872142252329<br/>\n",
    "TCGA-RD-A8N9-01A-01-TS1  :  0.8176449329279959<br/>\n",
    "TCGA-G9-6348-01Z-00-DX1  :  0.7966429519738157<br/>\n",
    "TCGA-DK-A2I6-01A-01-TS1  :  0.8649618223341795<br/>\n",
    "TCGA-KB-A93J-01A-01-TS1  :  0.8129848869951398<br/>\n",
    "TCGA-AY-A8YK-01A-01-TS1  :  0.7642849375366202<br/>\n",
    "TCGA-E2-A1B5-01Z-00-DX1  :  0.7747906286441217<br/>\n",
    "TCGA-NH-A8F7-01A-01-TS1  :  0.7865019409500186<br/>\n",
    "TCGA-HE-7128-01Z-00-DX1  :  0.6759419369045772<br/>\n",
    "0.77915555610654<br/>\n",
    "# Model 30th Jan 2020 model_optim.pth\n",
    "TCGA-21-5784-01Z-00-DX1  :  0.8116361668301593 108<br/>\n",
    "TCGA-RD-A8N9-01A-01-TS1  :  0.8782868692362495 117<br/>\n",
    "TCGA-CH-5767-01Z-00-DX1  :  0.815197744362616 115<br/>\n",
    "TCGA-AY-A8YK-01A-01-TS1  :  0.7743249219687112 114<br/>\n",
    "TCGA-G2-A2EK-01A-02-TSB  :  0.7873815363001121 108<br/>\n",
    "TCGA-G9-6348-01Z-00-DX1  :  0.8273699189706346 112<br/>\n",
    "TCGA-KB-A93J-01A-01-TS1  :  0.8798372531910145 118<br/>\n",
    "TCGA-DK-A2I6-01A-01-TS1  :  0.883796541868124 115<br/>\n",
    "TCGA-21-5786-01Z-00-DX1  :  0.7315855593758265 111<br/>\n",
    "TCGA-E2-A14V-01Z-00-DX1  :  0.8599896627535161 113<br/>\n",
    "TCGA-NH-A8F7-01A-01-TS1  :  0.7949021136999774 113<br/>\n",
    "TCGA-E2-A1B5-01Z-00-DX1  :  0.802531826634244 110<br/>\n",
    "TCGA-HE-7128-01Z-00-DX1  :  0.788953461927371 105<br/>\n",
    "TCGA-B0-5710-01Z-00-DX1  :  0.828047288316124 109<br/>\n",
    "0.8188457761024771<br/>\n",
    "\n",
    "# Model 31st 2 channel pred with only otsu\n",
    "TCGA-G9-6348-01Z-00-DX1  :  0.7819525407623568 108<br/>\n",
    "TCGA-KB-A93J-01A-01-TS1  :  0.8811115372673644 122<br/>\n",
    "TCGA-CH-5767-01Z-00-DX1  :  0.8138068067885593 111<br/>\n",
    "TCGA-DK-A2I6-01A-01-TS1  :  0.8401957024486049 118<br/>\n",
    "TCGA-NH-A8F7-01A-01-TS1  :  0.7201258488319375 124<br/>\n",
    "TCGA-B0-5710-01Z-00-DX1  :  0.8268603691132442 107<br/>\n",
    "TCGA-HE-7128-01Z-00-DX1  :  0.7434148978191721 94<br/>\n",
    "TCGA-21-5784-01Z-00-DX1  :  0.7782766771403891 108<br/>\n",
    "TCGA-E2-A1B5-01Z-00-DX1  :  0.7851957232741299 106<br/>\n",
    "TCGA-RD-A8N9-01A-01-TS1  :  0.8711696861502439 120<br/>\n",
    "TCGA-21-5786-01Z-00-DX1  :  0.7051864689168885 107<br/>\n",
    "TCGA-E2-A14V-01Z-00-DX1  :  0.8391341602292577 113<br/>\n",
    "TCGA-G2-A2EK-01A-02-TSB  :  0.6983577090485372 110<br/>\n",
    "TCGA-AY-A8YK-01A-01-TS1  :  0.6546214106691893 126<br/>\n",
    "0.7813863956042768<br/>\n",
    "# Model 31st 2 channel pred with boundary constratined growing of nuclei seeds\n",
    "TCGA-G9-6348-01Z-00-DX1  :  0.7193487672267217 108<br/>\n",
    "TCGA-KB-A93J-01A-01-TS1  :  0.7978143579195152 122<br/>\n",
    "TCGA-CH-5767-01Z-00-DX1  :  0.7869126701887118 111<br/>\n",
    "TCGA-DK-A2I6-01A-01-TS1  :  0.8429467108874303 118<br/>\n",
    "TCGA-NH-A8F7-01A-01-TS1  :  0.7064353205931725 124<br/>\n",
    "TCGA-B0-5710-01Z-00-DX1  :  0.7426428449341953 107<br/>\n",
    "TCGA-HE-7128-01Z-00-DX1  :  0.6464007628952234 94<br/>\n",
    "TCGA-21-5784-01Z-00-DX1  :  0.7619342935549388 108<br/>\n",
    "TCGA-E2-A1B5-01Z-00-DX1  :  0.751238314651544 106<br/>\n",
    "TCGA-RD-A8N9-01A-01-TS1  :  0.8106484504188964 120<br/>\n",
    "TCGA-21-5786-01Z-00-DX1  :  0.5648986336791768 107<br/>\n",
    "TCGA-E2-A14V-01Z-00-DX1  :  0.815677097344578 113<br/>\n",
    "TCGA-G2-A2EK-01A-02-TSB  :  0.760678717070453 110<br/>\n",
    "TCGA-AY-A8YK-01A-01-TS1  :  0.6709322769456747 126<br/>\n",
    "0.7413220870221593<br/>"
   ]
  },
  {
   "cell_type": "markdown",
   "metadata": {},
   "source": [
    "# predicition CoNSep"
   ]
  },
  {
   "cell_type": "markdown",
   "metadata": {},
   "source": [
    "# Best Post PRocess for CoNSep\n",
    "\n",
    "\n",
    "def img_recon_consep(nuclei,boundary,print_prompt=True):\n",
    "    \n",
    "\n",
    "    nuclei=nuclei>0.6*255\n",
    "    \n",
    "    nuclei=nuclei.astype(np.float32)\n",
    "    nuclei=ndimage.binary_fill_holes(nuclei).astype(int)\n",
    "    \n",
    "    boundary=boundary>0.5*255#120\n",
    "    boundary=boundary.astype(np.float32)\n",
    "        \n",
    "    nuclei_seeds=nuclei-boundary\n",
    "    nuclei_seeds[np.where(nuclei_seeds<0)]=0\n",
    "    nuclei_seeds=ndimage.binary_fill_holes(nuclei_seeds).astype(int)\n",
    "    \n",
    "    \n",
    "\n",
    "\n",
    "    labeled_img=label(nuclei_seeds)\n",
    "    regions=regionprops(labeled_img)\n",
    "\n",
    "    final_image=np.zeros_like(nuclei_seeds)\n",
    "    if print_prompt:\n",
    "        loop=tqdm(regions)\n",
    "    else:\n",
    "        loop=regions\n",
    "    \n",
    "    for i,region in enumerate(loop):\n",
    "        \n",
    "        coordinates=coord2array(list(region.coords))\n",
    "        area_region=len(coordinates[0])\n",
    "        boundary_length=[math.sqrt(area_region/math.pi)*math.pi*2 if math.sqrt(area_region/math.pi)*math.pi*2>50 else 50][-1]\n",
    "        x_temp=np.zeros_like(nuclei_seeds)\n",
    "        x_temp[coordinates]=1\n",
    "\n",
    "        x_temp=morphology.binary_dilation(x_temp, selem=morphology.selem.disk(2)).astype(np.uint8)\n",
    "           \n",
    "\n",
    "\n",
    "\n",
    "        final_image[np.where(x_temp==1)]=i+1\n",
    "        final_image=final_image.astype(np.float32)\n",
    "\n",
    " \n",
    "        \n",
    "    return final_image\n",
    "\n",
    "\n",
    "def watershed_seg_consep(nuclei,boundary):\n",
    "    \n",
    "    nuclei_th=(nuclei>0.25*255).astype(np.float32)\n",
    "    boundary_th=(boundary>0.25*255).astype(np.float32)\n",
    "   \n",
    "    \n",
    "    nuclei_seeds=nuclei_th-boundary_th\n",
    "    nuclei_seeds[np.where(nuclei_seeds<0)]=0\n",
    "    nuclei_seeds=nuclei_seeds.astype(np.uint8)\n",
    "    nuclei_seeds=remove_small_holes(nuclei_seeds)\n",
    "    nuclei_seeds=label(nuclei_seeds)\n",
    "#     nuclei_seeds=remove_small_objects(nuclei_seeds)\n",
    "    nuclei_distance_map=ndi.distance_transform_edt(nuclei_seeds)\n",
    "    \n",
    "    \n",
    "    local_maxi = peak_local_max(nuclei_distance_map, indices=False, footprint=np.ones((3, 3)),\n",
    "                                labels=nuclei_th)\n",
    "    markers = ndi.label(local_maxi)[0]\n",
    "    seg_image = watershed(-nuclei_distance_map, markers, mask=nuclei_th)\n",
    "    \n",
    "    \n",
    "    return seg_image"
   ]
  },
  {
   "cell_type": "code",
   "execution_count": 41,
   "metadata": {},
   "outputs": [],
   "source": [
    "# def sort_n_array(img):\n",
    "#     img_labels=label(img)\n",
    "#     img_regions=regionprops(img_labels)\n",
    "#     final_gt=np.zeros_like(img,dtype=np.int16)\n",
    "#     for i,region in enumerate(img_regions):\n",
    "#         coordinates=coord2array(list(region.coords))\n",
    "#         final_gt[coordinates]=i+1\n",
    "        \n",
    "#     return final_gt\n",
    "\n",
    "\n",
    "def img_recon_consep(nuclei,boundary,print_prompt=True):\n",
    "    \n",
    "    # args:\n",
    "    #nuclei : raw nuclei image.\n",
    "    #boundary : raw_boundary predicitons.\n",
    "    #print_prompt : wheter or not to show progress bar\n",
    "\n",
    "    nuclei=nuclei>0.6*255#threshold_otsu(nuclei)\n",
    "    \n",
    "    nuclei=nuclei.astype(np.float32)\n",
    "    nuclei=ndimage.binary_fill_holes(nuclei).astype(int)\n",
    "    \n",
    "    boundary=boundary>0.5*255#120\n",
    "    boundary=boundary.astype(np.float32)\n",
    "    \n",
    "    \n",
    "    nuclei_seeds=nuclei-boundary\n",
    "    nuclei_seeds[np.where(nuclei_seeds<0)]=0\n",
    "    \n",
    "    nuclei_seeds=ndimage.binary_fill_holes(nuclei_seeds).astype(int)\n",
    "    area=len(np.where(nuclei_seeds==1)[0])\n",
    "    total_area=nuclei_seeds.shape[0]*nuclei_seeds.shape[1]\n",
    "    \n",
    "    \n",
    "\n",
    "    nuclei_seeds=morphology.binary_erosion(nuclei_seeds, selem=morphology.selem.disk(1)).astype(np.uint8)\n",
    "\n",
    "\n",
    "    labeled_img=label(nuclei_seeds)\n",
    "    regions=regionprops(labeled_img)\n",
    "\n",
    "    final_image=np.zeros_like(nuclei_seeds)\n",
    "    if print_prompt:\n",
    "        loop=tqdm(regions)\n",
    "    else:\n",
    "        loop=regions\n",
    "    \n",
    "    for i,region in enumerate(loop):\n",
    "        \n",
    " \n",
    "        coordinates=coord2array(list(region.coords))\n",
    "        area_region=len(coordinates[0])\n",
    "\n",
    "        x_temp=np.zeros_like(nuclei_seeds)\n",
    "        x_temp[coordinates]=1\n",
    "\n",
    "        x_temp=morphology.binary_dilation(x_temp, selem=morphology.selem.disk(2)).astype(np.uint8)\n",
    "\n",
    "        final_image[np.where(x_temp==1)]=i+1\n",
    "        final_image=final_image.astype(np.float32)\n",
    "\n",
    " \n",
    "        \n",
    "    return final_image,area/total_area\n",
    "\n",
    "\n",
    "def watershed_seg_consep(nuclei,boundary):\n",
    "    \n",
    "    nuclei_th=(nuclei>0.25*255).astype(np.float32)\n",
    "    boundary_th=(boundary>0.25*255).astype(np.float32)\n",
    "   \n",
    "    \n",
    "    nuclei_seeds=nuclei_th-boundary_th\n",
    "    nuclei_seeds[np.where(nuclei_seeds<0)]=0\n",
    "    nuclei_seeds=nuclei_seeds.astype(np.uint8)\n",
    "    nuclei_seeds=remove_small_holes(nuclei_seeds)\n",
    "    nuclei_seeds=label(nuclei_seeds)\n",
    "#     nuclei_seeds=remove_small_objects(nuclei_seeds)\n",
    "    nuclei_distance_map=ndi.distance_transform_edt(nuclei_seeds)\n",
    "    \n",
    "    \n",
    "    local_maxi = peak_local_max(nuclei_distance_map, indices=False, footprint=np.ones((3, 3)),\n",
    "                                labels=nuclei_th)\n",
    "    markers = ndi.label(local_maxi)[0]\n",
    "    seg_image = watershed(-nuclei_distance_map, markers, mask=nuclei_th)\n",
    "    \n",
    "    \n",
    "    return seg_image"
   ]
  },
  {
   "cell_type": "code",
   "execution_count": 82,
   "metadata": {},
   "outputs": [
    {
     "data": {
      "application/vnd.jupyter.widget-view+json": {
       "model_id": "35938e949b2b4e448e458fe6677b385e",
       "version_major": 2,
       "version_minor": 0
      },
      "text/plain": [
       "HBox(children=(IntProgress(value=0, max=14), HTML(value='')))"
      ]
     },
     "metadata": {},
     "output_type": "display_data"
    },
    {
     "name": "stderr",
     "output_type": "stream",
     "text": [
      "Lossy conversion from int16 to uint8. Range [0, 1077]. Convert image to uint8 prior to saving to suppress this warning.\n",
      "Lossy conversion from int16 to uint8. Range [0, 703]. Convert image to uint8 prior to saving to suppress this warning.\n"
     ]
    },
    {
     "name": "stdout",
     "output_type": "stream",
     "text": [
      "nuclei_test_11  :  0.208781 0.83553634118575 0.3298490761715019 0.45280898876404496 0.7318010544571555 0.3313660954452064\n"
     ]
    },
    {
     "name": "stderr",
     "output_type": "stream",
     "text": [
      "Lossy conversion from int16 to uint8. Range [0, 394]. Convert image to uint8 prior to saving to suppress this warning.\n",
      "Lossy conversion from int16 to uint8. Range [0, 465]. Convert image to uint8 prior to saving to suppress this warning.\n"
     ]
    },
    {
     "name": "stdout",
     "output_type": "stream",
     "text": [
      "nuclei_test_3  :  0.1779 0.8483916825945299 0.5061102288703334 0.5681024447031432 0.764370510623889 0.4342407557444213\n"
     ]
    },
    {
     "name": "stderr",
     "output_type": "stream",
     "text": [
      "Lossy conversion from int16 to uint8. Range [0, 910]. Convert image to uint8 prior to saving to suppress this warning.\n",
      "Lossy conversion from int16 to uint8. Range [0, 938]. Convert image to uint8 prior to saving to suppress this warning.\n"
     ]
    },
    {
     "name": "stdout",
     "output_type": "stream",
     "text": [
      "nuclei_test_5  :  0.199673 0.7939560386538695 0.48192588685732146 0.6168831168831169 0.7748405464628675 0.4779860513894313\n"
     ]
    },
    {
     "name": "stderr",
     "output_type": "stream",
     "text": [
      "Lossy conversion from int16 to uint8. Range [0, 418]. Convert image to uint8 prior to saving to suppress this warning.\n",
      "Lossy conversion from int16 to uint8. Range [0, 506]. Convert image to uint8 prior to saving to suppress this warning.\n"
     ]
    },
    {
     "name": "stdout",
     "output_type": "stream",
     "text": [
      "nuclei_test_4  :  0.222388 0.8479256196934623 0.49612557077098257 0.551948051948052 0.7614158418777031 0.42026199064678416\n"
     ]
    },
    {
     "name": "stderr",
     "output_type": "stream",
     "text": [
      "Lossy conversion from int16 to uint8. Range [0, 556]. Convert image to uint8 prior to saving to suppress this warning.\n",
      "Lossy conversion from int16 to uint8. Range [0, 737]. Convert image to uint8 prior to saving to suppress this warning.\n"
     ]
    },
    {
     "name": "stdout",
     "output_type": "stream",
     "text": [
      "nuclei_test_14  :  0.232329 0.8073309982988776 0.5253428001845173 0.6666666666666666 0.7965903819130826 0.5310602546087217\n"
     ]
    },
    {
     "name": "stderr",
     "output_type": "stream",
     "text": [
      "Lossy conversion from int16 to uint8. Range [0, 865]. Convert image to uint8 prior to saving to suppress this warning.\n",
      "Lossy conversion from int16 to uint8. Range [0, 861]. Convert image to uint8 prior to saving to suppress this warning.\n"
     ]
    },
    {
     "name": "stdout",
     "output_type": "stream",
     "text": [
      "nuclei_test_1  :  0.162261 0.8380418394724546 0.4207979421090835 0.6129779837775203 0.7507037901917436 0.46016489572587765\n"
     ]
    },
    {
     "name": "stderr",
     "output_type": "stream",
     "text": [
      "Lossy conversion from int16 to uint8. Range [0, 845]. Convert image to uint8 prior to saving to suppress this warning.\n",
      "Lossy conversion from int16 to uint8. Range [0, 1084]. Convert image to uint8 prior to saving to suppress this warning.\n"
     ]
    },
    {
     "name": "stdout",
     "output_type": "stream",
     "text": [
      "nuclei_test_10  :  0.171335 0.806823390892993 0.5257462057881981 0.6314152410575428 0.7703555364149355 0.48641422672544915\n"
     ]
    },
    {
     "name": "stderr",
     "output_type": "stream",
     "text": [
      "Lossy conversion from int16 to uint8. Range [0, 245]. Convert image to uint8 prior to saving to suppress this warning.\n",
      "Lossy conversion from int16 to uint8. Range [0, 396]. Convert image to uint8 prior to saving to suppress this warning.\n"
     ]
    },
    {
     "name": "stdout",
     "output_type": "stream",
     "text": [
      "nuclei_test_2  :  0.077628 0.7316012084592145 0.5158778260134183 0.49297971918876754 0.7453072303809374 0.3674213491425526\n"
     ]
    },
    {
     "name": "stderr",
     "output_type": "stream",
     "text": [
      "Lossy conversion from int16 to uint8. Range [0, 300]. Convert image to uint8 prior to saving to suppress this warning.\n",
      "Lossy conversion from int16 to uint8. Range [0, 325]. Convert image to uint8 prior to saving to suppress this warning.\n"
     ]
    },
    {
     "name": "stdout",
     "output_type": "stream",
     "text": [
      "nuclei_test_6  :  0.092986 0.8473003413761873 0.5977352404057639 0.6976 0.7923352316397236 0.5527330575918712\n"
     ]
    },
    {
     "name": "stderr",
     "output_type": "stream",
     "text": [
      "Lossy conversion from int16 to uint8. Range [0, 513]. Convert image to uint8 prior to saving to suppress this warning.\n",
      "Lossy conversion from int16 to uint8. Range [0, 463]. Convert image to uint8 prior to saving to suppress this warning.\n"
     ]
    },
    {
     "name": "stdout",
     "output_type": "stream",
     "text": [
      "nuclei_test_9  :  0.087774 0.8164808213686892 0.5245270938173976 0.6577868852459017 0.7837151350880205 0.51551753762962\n"
     ]
    },
    {
     "name": "stderr",
     "output_type": "stream",
     "text": [
      "Lossy conversion from int16 to uint8. Range [0, 626]. Convert image to uint8 prior to saving to suppress this warning.\n",
      "Lossy conversion from int16 to uint8. Range [0, 544]. Convert image to uint8 prior to saving to suppress this warning.\n"
     ]
    },
    {
     "name": "stdout",
     "output_type": "stream",
     "text": [
      "nuclei_test_8  :  0.219496 0.8388882670010948 0.2699766075913656 0.4598290598290598 0.7474293554103689 0.34368973778699013\n"
     ]
    },
    {
     "name": "stderr",
     "output_type": "stream",
     "text": [
      "Lossy conversion from int16 to uint8. Range [0, 1359]. Convert image to uint8 prior to saving to suppress this warning.\n",
      "Lossy conversion from int16 to uint8. Range [0, 1084]. Convert image to uint8 prior to saving to suppress this warning.\n"
     ]
    },
    {
     "name": "stdout",
     "output_type": "stream",
     "text": [
      "nuclei_test_13  :  0.211809 0.8343349917081261 0.48804215102626836 0.6230045026606631 0.7802546886920292 0.4861021842772282\n"
     ]
    },
    {
     "name": "stderr",
     "output_type": "stream",
     "text": [
      "Lossy conversion from int16 to uint8. Range [0, 428]. Convert image to uint8 prior to saving to suppress this warning.\n",
      "Lossy conversion from int16 to uint8. Range [0, 491]. Convert image to uint8 prior to saving to suppress this warning.\n"
     ]
    },
    {
     "name": "stdout",
     "output_type": "stream",
     "text": [
      "nuclei_test_12  :  0.120065 0.8327586084813811 0.6264664223080001 0.720348204570185 0.773041764665906 0.5568592472348529\n"
     ]
    },
    {
     "name": "stderr",
     "output_type": "stream",
     "text": [
      "Lossy conversion from int16 to uint8. Range [0, 241]. Convert image to uint8 prior to saving to suppress this warning.\n",
      "Lossy conversion from int16 to uint8. Range [0, 186]. Convert image to uint8 prior to saving to suppress this warning.\n"
     ]
    },
    {
     "name": "stdout",
     "output_type": "stream",
     "text": [
      "nuclei_test_7  :  0.039976 0.8103772077039878 0.46324392824340505 0.5386416861826698 0.7326570897812564 0.3946396502334637\n",
      "DICE :  0.8206962397779013\n",
      "AJI :  0.48369764143982547\n",
      "DQ :  0.5922137536769523\n",
      "SQ :  0.7646298683999728\n",
      "PQ :  0.454175502441605\n"
     ]
    }
   ],
   "source": [
    "import pandas as pd\n",
    "df = pd.DataFrame(columns=['Image', 'Area_ratio', 'Dice','AJI','DQ','SQ','PQ'])\n",
    "pred_dir_CoNSep='prediction_dual_2_CoNSep'\n",
    "img_list=[x for x in os.listdir(pred_dir_CoNSep) if 'test' and 'nuc' in x and 'proc' not in x]\n",
    "avg=0\n",
    "avg_aji=0\n",
    "dq_avg=0\n",
    "sq_avg=0\n",
    "pq_avg=0\n",
    "for img_name in tqdm(img_list):\n",
    "    boundary=imread(pred_dir_CoNSep+'/'+'bound_'+'_'.join(img_name.split('_')[1:]))\n",
    "    nuclei=imread(pred_dir_CoNSep+'/'+img_name)\n",
    "    gt=np.load('other_data/CoNSeP/Test/Labels/'+'_'.join(img_name.split('_')[1:]).split('.')[0]+'.npy')[:,:,0]\n",
    "    gt=remap_label(gt)\n",
    "    \n",
    "    imsave(pred_dir_CoNSep+'/'+'GT'+'_'.join(img_name.split('_')[1:]),gt.astype(np.int16))\n",
    "    gt_dice=(gt>0).astype(np.uint8)*255\n",
    "    \n",
    "    img_pred,area=img_recon_consep(nuclei,boundary,print_prompt=False)\n",
    "    img_pred=remap_label(img_pred)\n",
    "    pred_dice=(img_pred>0).astype(np.uint8)*255\n",
    "\n",
    "    imsave(pred_dir_CoNSep+'/'+img_name.split('.')[0]+'_proc.png',img_pred.astype(np.int16))\n",
    "\n",
    "    dice=whole_dice_metric(pred_dice,gt_dice)\n",
    "    aji=get_fast_aji(gt,img_pred)\n",
    "    pq,_=get_fast_pq(gt,img_pred)\n",
    "    dq=pq[0]\n",
    "    sq=pq[1]\n",
    "    pq=pq[-1]\n",
    "    df = df.append({'Image': img_name.split('.')[0],'Area_ratio':area ,'Dice': dice,\\\n",
    "                    'AJI': aji,'DQ':dq,'SQ':sq,'PQ':pq}, ignore_index=True)\n",
    "    \n",
    "    avg+=dice\n",
    "    avg_aji+=aji\n",
    "    dq_avg+=dq\n",
    "    sq_avg+=sq\n",
    "    pq_avg+=pq\n",
    "    print(img_name.split('.')[0],' : ',area,dice,aji,dq,sq,pq)\n",
    "print(\"DICE : \",avg/len(img_list))\n",
    "print(\"AJI : \",avg_aji/len(img_list))\n",
    "print(\"DQ : \",dq_avg/len(img_list))\n",
    "print(\"SQ : \",sq_avg/len(img_list))\n",
    "print(\"PQ : \",pq_avg/len(img_list))\n",
    "df.to_csv('metric_comp.csv',index=False)\n"
   ]
  },
  {
   "cell_type": "markdown",
   "metadata": {},
   "source": [
    "# model 4th feb, predicts only nuclei (CPM-17)\n",
    "\n",
    "nuclei_gbm_image01  :  0.7277193766051461 108<br/>\n",
    "nuclei_lgg_image02  :  0.8795810296965031 120<br/>\n",
    "nuclei_lgg_image04  :  0.8498570690545892 120<br/>\n",
    "nuclei_gbm_image05  :  0.8793331994376381 115<br/>\n",
    "nuclei_lung_image05  :  0.9245344129554656 119<br/>\n",
    "nuclei_lung_image08  :  0.8866071888262075 118<br/>\n",
    "nuclei_gbm_image04  :  0.901806647358985 119<br/>\n",
    "nuclei_gbm_image02  :  0.7480424652927895 110<br/>\n",
    "nuclei_hnsc_image03  :  0.8753627522274856 123<br/>\n",
    "nuclei_hnsc_image04  :  0.8324088699506544 121<br/>\n",
    "nuclei_gbm_image08  :  0.8804250959880733 123<br/>\n",
    "nuclei_lung_image06  :  0.9121998339236388 119<br/>\n",
    "nuclei_lgg_image03  :  0.8737407376571477 117<br/>\n",
    "nuclei_lgg_image05  :  0.8594481376923777 111<br/>\n",
    "nuclei_lgg_image06  :  0.8453096210846751 113<br/>\n",
    "nuclei_gbm_image06  :  0.8566324907627181 115<br/>\n",
    "nuclei_gbm_image03  :  0.8456073644186511 118<br/>\n",
    "nuclei_lung_image02  :  0.7613867304243873 117<br/>\n",
    "nuclei_gbm_image07  :  0.8679014858538571 119<br/>\n",
    "nuclei_lung_image03  :  0.8728274257561243 117<br/>\n",
    "nuclei_hnsc_image01  :  0.8321472120607472 111<br/>\n",
    "nuclei_hnsc_image05  :  0.8198542347323448 118<br/>\n",
    "nuclei_lung_image07  :  0.9227191260561577 120<br/>\n",
    "nuclei_hnsc_image06  :  0.8079416106090396 116<br/>\n",
    "nuclei_lgg_image08  :  0.8623812006255764 121<br/>\n",
    "nuclei_lung_image01  :  0.7257110540330373 112<br/>\n",
    "nuclei_lgg_image01  :  0.8665360156781187 117<br/>\n",
    "nuclei_hnsc_image02  :  0.8480114118805828 120<br/>\n",
    "nuclei_hnsc_image07  :  0.841697827604559 119<br/>\n",
    "nuclei_lgg_image07  :  0.8837092227144583 115<br/>\n",
    "nuclei_lung_image04  :  0.8561029083091506 119<br/>\n",
    "nuclei_hnsc_image08  :  0.8350518485518164 119<br/>\n",
    "0.8494561127444595<br/>"
   ]
  },
  {
   "cell_type": "markdown",
   "metadata": {},
   "source": [
    "# junk"
   ]
  },
  {
   "cell_type": "code",
   "execution_count": null,
   "metadata": {},
   "outputs": [],
   "source": [
    "nuclei=imread('prediction_CPM_17/nuclei_lung_image02.png')\n",
    "boundary=imread('prediction_CPM_17/bound_lung_image02.png')\n",
    "gt=imread('other_data/CPM_17/Test/NucleiMaps/lung_image02.png')\n",
    "gt_bound=imread('other_data/CPM_17/Test/BoundaryMaps/lung_image01.png')\n",
    "# boundary=(boundary>60).astype(np.float32)\n",
    "\n",
    "# # seg_image=watershed_seg(nuclei,boundary)\n",
    "\n",
    "# nuclei=(nuclei>155).astype(np.float32)#threshold_otsu(nuclei)\n",
    "# nuclei=ndimage.binary_fill_holes(nuclei).astype(int)\n",
    "\n",
    "# # boundary=multiple_dialte(boundary,iter_count=2,selem=morphology.selem.square(5))\n",
    "# # boundary=multiple_erosion(boundary,iter_count=1,selem=morphology.selem.square(5))\n",
    "\n",
    "plt.figure(1,figsize=(10,10))\n",
    "plt.imshow(nuclei)\n",
    "plt.figure(2,figsize=(10,10))\n",
    "plt.imshow(boundary)\n",
    "plt.figure(3,figsize=(10,10))\n",
    "plt.imshow(gt)\n",
    "plt.figure(4,figsize=(10,10))\n",
    "plt.imshow(gt_bound)\n",
    "\n",
    "f = open('other_data/CPM_17/Test/GT_Mask/lung_image02_mask.txt','r')\n",
    "x = f.readlines()\n",
    "n_array_gt=np.array([int(a) for a in x[1:]]).reshape(list(map(int, re.findall('\\d+', x[0]))))\n",
    "n_array_gt=sort_n_array(n_array_gt)\n",
    "labeled_gt=label(n_array_gt)\n",
    "gt_regions=regionprops(labeled_gt)\n",
    "plt.figure(5,figsize=(10,10))\n",
    "plt.imshow(n_array_gt)\n",
    "print(\"Number of regions\",len(gt_regions))"
   ]
  },
  {
   "cell_type": "code",
   "execution_count": null,
   "metadata": {},
   "outputs": [],
   "source": [
    "\n",
    "# print(np.amax(boundary_th))\n",
    "\n",
    "\n",
    "\n",
    "\n",
    "plt.figure(7,figsize=(10,10))\n",
    "plt.imshow(nuclei_seeds)\n",
    "\n",
    "\n",
    "plt.figure(8,figsize=(10,10))\n",
    "plt.imshow(nuclei_seeds)\n",
    "labeled_seeds=label(nuclei_seeds)\n",
    "seeds_regions=regionprops(labeled_seeds)\n",
    "print(len(seeds_regions))\n"
   ]
  },
  {
   "cell_type": "code",
   "execution_count": null,
   "metadata": {},
   "outputs": [],
   "source": [
    "nuclei_distance_map=ndi.distance_transform_edt(nuclei_seeds)\n",
    "plt.figure(9,figsize=(10,10))\n",
    "plt.imshow(1-nuclei_distance_map)"
   ]
  },
  {
   "cell_type": "code",
   "execution_count": null,
   "metadata": {},
   "outputs": [],
   "source": [
    "local_maxi = peak_local_max(nuclei_distance_map, indices=False, footprint=np.ones((3, 3)),\n",
    "                            labels=nuclei_th)\n",
    "markers = ndi.label(local_maxi)[0]\n",
    "labels = watershed(-nuclei_distance_map, markers, mask=nuclei_th)\n",
    "plt.figure(10,figsize=(10,10))\n",
    "plt.imshow(labels)"
   ]
  },
  {
   "cell_type": "code",
   "execution_count": null,
   "metadata": {},
   "outputs": [],
   "source": [
    "get_fast_aji(sort_n_array(n_array_gt),sort_n_array(labels))"
   ]
  },
  {
   "cell_type": "code",
   "execution_count": null,
   "metadata": {},
   "outputs": [],
   "source": [
    "nuclei_seeds=nuclei-boundary\n",
    "nuclei_seeds[nuclei_seeds<0]=0\n",
    "# nuclei_seeds=multiple_erosion(nuclei_seeds,4,selem=morphology.selem.square(3))\n",
    "\n",
    "labeled_img=label(nuclei_seeds)\n",
    "regions=regionprops(labeled_img)\n",
    "print(len(regions))\n",
    "\n",
    "# nuclei_seeds=ndimage.binary_fill_holes(nuclei_seeds).astype(int)\n",
    "plt.imshow(nuclei_seeds)\n"
   ]
  },
  {
   "cell_type": "code",
   "execution_count": null,
   "metadata": {},
   "outputs": [],
   "source": [
    "\n",
    "final_image=np.zeros_like(nuclei_seeds)\n",
    "loop=tqdm(regions)\n",
    "for i,region in enumerate(loop):\n",
    "\n",
    "\n",
    "    coordinates=coord2array(list(region.coords))\n",
    "    x_temp=np.zeros_like(nuclei_seeds)\n",
    "    x_temp[coordinates]=1\n",
    "    x_temp=skimage.morphology.reconstruction(x_temp, nuclei, method='dilation', selem=None, offset=None)\n",
    "\n",
    "\n",
    "\n",
    "    final_image[np.where(x_temp==1)]=i+1\n",
    "    final_image=final_image.astype(np.int16)\n",
    "plt.figure(figsize=(10,10))   \n",
    "plt.imshow(final_image)"
   ]
  },
  {
   "cell_type": "code",
   "execution_count": null,
   "metadata": {},
   "outputs": [],
   "source": [
    "get_fast_aji(sort_n_array(n_array_gt),sort_n_array(final_image))"
   ]
  },
  {
   "cell_type": "code",
   "execution_count": null,
   "metadata": {},
   "outputs": [],
   "source": [
    "import numpy as np\n",
    "import matplotlib.pyplot as plt\n",
    "from scipy import ndimage as ndi\n",
    "\n",
    "from skimage.morphology import watershed\n",
    "from skimage.feature import peak_local_max\n",
    "\n",
    "\n",
    "# Generate an initial image with two overlapping circles\n",
    "x, y = np.indices((80, 80))\n",
    "x1, y1, x2, y2 = 28, 28, 44, 52\n",
    "r1, r2 = 16, 20\n",
    "mask_circle1 = (x - x1)**2 + (y - y1)**2 < r1**2\n",
    "mask_circle2 = (x - x2)**2 + (y - y2)**2 < r2**2\n",
    "image = np.logical_or(mask_circle1, mask_circle2)\n",
    "\n",
    "# Now we want to separate the two objects in image\n",
    "# Generate the markers as local maxima of the distance to the background\n",
    "distance = ndi.distance_transform_edt(image)\n",
    "local_maxi = peak_local_max(distance, indices=False, footprint=np.ones((3, 3)),\n",
    "                            labels=image)\n",
    "markers = ndi.label(local_maxi)[0]\n",
    "labels = watershed(-distance, markers, mask=image)\n",
    "\n",
    "fig, axes = plt.subplots(ncols=3, figsize=(9, 3), sharex=True, sharey=True)\n",
    "ax = axes.ravel()\n",
    "\n",
    "ax[0].imshow(image, cmap=plt.cm.gray)\n",
    "ax[0].set_title('Overlapping objects')\n",
    "ax[1].imshow(-distance, cmap=plt.cm.gray)\n",
    "ax[1].set_title('Distances')\n",
    "ax[2].imshow(labels, cmap=plt.cm.nipy_spectral)\n",
    "ax[2].set_title('Separated objects')\n",
    "\n",
    "for a in ax:\n",
    "    a.set_axis_off()\n",
    "\n",
    "fig.tight_layout()\n",
    "plt.show()"
   ]
  },
  {
   "cell_type": "code",
   "execution_count": null,
   "metadata": {},
   "outputs": [],
   "source": [
    "nuclei_2=(nuclei>threshold_otsu(nuclei)).astype(np.float32)#threshold_otsu(nuclei)\n",
    "boundary=(boundary>threshold_otsu(boundary)).astype(np.float32)\n",
    "nuclei_seeds=nuclei_2-boundary\n",
    "nuclei_seeds[nuclei_seeds<0]=0\n",
    "nuclei_seeds=morphology.binary_opening(nuclei_seeds)#multiple_erosion(nuclei_seeds,2,selem=morphology.selem.square(3))\n",
    "nuclei_seeds=ndimage.binary_fill_holes(nuclei_seeds).astype(int)\n",
    "nuclei_seeds=ndi.label(nuclei_seeds)[0]\n",
    "\n",
    "plt.imshow(nuclei_seeds)"
   ]
  },
  {
   "cell_type": "code",
   "execution_count": null,
   "metadata": {},
   "outputs": [],
   "source": [
    "th=watershed(255-nuclei, nuclei_seeds, mask=ndimage.binary_fill_holes(nuclei_2).astype(int))\n",
    "\n",
    "plt.imshow(th)"
   ]
  },
  {
   "cell_type": "code",
   "execution_count": null,
   "metadata": {},
   "outputs": [],
   "source": [
    "get_fast_aji(sort_n_array(n_array_gt),sort_n_array(th))"
   ]
  },
  {
   "cell_type": "code",
   "execution_count": null,
   "metadata": {},
   "outputs": [],
   "source": [
    "plt.imshow(ndi.distance_transform_edt(n_array_gt))"
   ]
  },
  {
   "cell_type": "code",
   "execution_count": null,
   "metadata": {},
   "outputs": [],
   "source": [
    "labeled_img=label(n_array_gt)\n",
    "regions=regionprops(labeled_img)\n",
    "print(len(regions))\n",
    "final_image=np.zeros_like(n_array_gt)\n",
    "temp=np.zeros_like(n_array_gt)\n",
    "# loop=tqdm(regions)\n",
    "coordinates=coord2array(list(regions[23].coords))\n",
    "final_image[coordinates]=1\n",
    "\n",
    "\n",
    "# for i,region in enumerate(loop):\n",
    "\n",
    "\n",
    "#     coordinates=coord2array(list(region.coords))\n",
    "#     x_temp=np.zeros_like(nuclei_seeds)\n",
    "#     x_temp[coordinates]=1\n",
    "#     x_temp=ndi.distance_transform_edt(x_temp)\n",
    "    \n",
    "\n",
    "\n",
    "\n",
    "#     final_image[np.where(x_temp==1)]=i+1\n",
    "#     final_image=final_image.astype(np.int16)\n",
    "plt.figure(figsize=(10,10))   \n",
    "plt.imshow(1-ndi.distance_transform_edt(final_image))"
   ]
  },
  {
   "cell_type": "code",
   "execution_count": null,
   "metadata": {},
   "outputs": [],
   "source": [
    "x=np.reshape(ndi.distance_transform_edt(final_image),(-1,1))\n",
    "for i in tqdm(range(len(x))):\n",
    "    x[i]=(x[i]-np.min(x))/np.max(x)\n",
    "    \n",
    "plt.hist(x)"
   ]
  },
  {
   "cell_type": "code",
   "execution_count": null,
   "metadata": {},
   "outputs": [],
   "source": [
    "temp=ndi.distance_transform_edt(final_image)\n",
    "temp[temp>0]=1\n",
    "plt.figure(figsize=(10,10)) \n",
    "plt.imshow(temp)"
   ]
  },
  {
   "cell_type": "code",
   "execution_count": null,
   "metadata": {},
   "outputs": [],
   "source": [
    "plt.figure(figsize=(10,10)) \n",
    "plt.imshow((final_image))"
   ]
  },
  {
   "cell_type": "code",
   "execution_count": null,
   "metadata": {},
   "outputs": [],
   "source": [
    "np.unique(ndi.distance_transform_edt(final_image)/255)"
   ]
  },
  {
   "cell_type": "code",
   "execution_count": null,
   "metadata": {},
   "outputs": [],
   "source": [
    "!ls other_data/CPM_17/Test/GT_Mask/"
   ]
  },
  {
   "cell_type": "code",
   "execution_count": null,
   "metadata": {},
   "outputs": [],
   "source": []
  },
  {
   "cell_type": "code",
   "execution_count": null,
   "metadata": {},
   "outputs": [],
   "source": [
    "distance_image=np.zeros_like(n_array,dtype=np.float64)\n",
    "for i in tqdm(np.unique(n_array)):\n",
    "    img_temp=np.zeros_like(n_array)\n",
    "    img_temp[np.where(n_array==i)]=1\n",
    "    distance = ndi.distance_transform_edt(img_temp)\n",
    "    distance_image+=distance\n",
    "plt.imshow(1-distance_image)\n",
    "    "
   ]
  },
  {
   "cell_type": "code",
   "execution_count": null,
   "metadata": {},
   "outputs": [],
   "source": [
    "bound_pred=imread('prediction_dual_2_CPM_17/bound_gbm_image01.png')\n",
    "distance_bound = ndi.distance_transform_edt(bound_pred)\n",
    "plt.imshow(distance_bound)"
   ]
  },
  {
   "cell_type": "code",
   "execution_count": null,
   "metadata": {},
   "outputs": [],
   "source": [
    "\n",
    "for img in tqdm([x for x in os.listdir('prediction_CPM_17/') if 'proc' in x]):\n",
    "    mask_name='_'.join(img.split('_')[1:-1])+'_mask.txt'\n",
    "    pred_n_array=imread('prediction_CPM_17/'+img)\n",
    "    \n",
    "    f = open('other_data/CPM_17/Test/GT_Mask/'+mask_name, 'r')\n",
    "    x = f.readlines()\n",
    "    gt_n_array=np.array([int(a) for a in x[1:]]).reshape(list(map(int, re.findall('\\d+', x[0]))))\n",
    "    \n",
    "    gt_threshold=np.zeros((*gt_n_array.shape,3))\n",
    "    pred_threshold=np.zeros((*pred_n_array.shape,3))\n",
    "\n",
    "    gt_threshold[np.where(gt_n_array>0)[0],np.where(gt_n_array>0)[1],1]=255\n",
    "    pred_threshold[np.where(pred_n_array>0)[0],np.where(pred_n_array>0)[1],0]=255\n",
    "    \n",
    "    imsave('overlap/'+'_'.join(img.split('_')[1:-1])+'_pred.png',pred_threshold.astype(np.uint8))\n",
    "    imsave('overlap/'+'_'.join(img.split('_')[1:-1])+'_gt.png',gt_threshold.astype(np.uint8))\n",
    "    imsave('overlap/'+'_'.join(img.split('_')[1:-1])+'_overlap.png',(gt_threshold+pred_threshold).astype(np.uint8))\n",
    "    "
   ]
  },
  {
   "cell_type": "code",
   "execution_count": null,
   "metadata": {},
   "outputs": [],
   "source": [
    "f = open('other_data/CPM_17/Test/GT_Mask/gbm_image01_mask.txt', 'r')\n",
    "x = f.readlines()\n",
    "n_array=np.array([int(a) for a in x[1:]]).reshape(list(map(int, re.findall('\\d+', x[0]))))\n",
    "plt.imshow(n_array)"
   ]
  },
  {
   "cell_type": "code",
   "execution_count": null,
   "metadata": {},
   "outputs": [],
   "source": [
    "label_img = label(n_array)\n",
    "regions = regionprops(label_img)\n",
    "print(len(np.unique(n_array)),len(regions))"
   ]
  },
  {
   "cell_type": "code",
   "execution_count": null,
   "metadata": {},
   "outputs": [],
   "source": [
    "x_temp_img=np.zeros_like(n_array)\n",
    "y_temp_img=np.zeros_like(n_array)\n",
    "for i,region in enumerate(tqdm(regions)):\n",
    "    coordinates=coord2array(list(region.coords))\n",
    "    distance_x=abs(coordinates[0]-np.ones(len(coordinates[0]))*round(region.centroid[0]))\n",
    "    distance_y=abs(coordinates[1]-np.ones(len(coordinates[1]))*round(region.centroid[1]))\n",
    "    distance_x=((distance_x-np.min(distance_x))/(np.max(distance_x)-np.min(distance_x)))*255.0\n",
    "    distance_y=((distance_y-np.min(distance_y))/(np.max(distance_y)-np.min(distance_y)))*255.0\n",
    "    x_temp_img[coordinates]=distance_x\n",
    "    y_temp_img[coordinates]=distance_y\n",
    "    "
   ]
  },
  {
   "cell_type": "code",
   "execution_count": null,
   "metadata": {},
   "outputs": [],
   "source": [
    "pred_dir_CoNSep='prediction_dual_2_CoNSep'\n",
    "img_list=[x for x in os.listdir(pred_dir_CoNSep) if 'test' and 'nuc' in x and 'proc' not in x]\n",
    "for img_name in tqdm(img_list):\n",
    "    boundary=imread(pred_dir_CoNSep+'/'+'bound_'+'_'.join(img_name.split('_')[1:]))\n",
    "    boundary=boundary>0.45*255\n",
    "    nuclei=imread(pred_dir_CoNSep+'/'+img_name)\n",
    "    nuclei=nuclei>0.45*255\n",
    "    gt=np.load('other_data/CoNSeP/Test/Labels/'+'_'.join(img_name.split('_')[1:]).split('.')[0]+'.npy')[:,:,0]\n",
    "    overlap_imape=np.zeros((*nuclei.shape,3))\n",
    "    gt_threshold=gt>0\n",
    "    overlap_imape[np.where(boundary>0)[0],np.where(boundary>0)[1],0]=255\n",
    "    overlap_imape[np.where(nuclei>0)[0],np.where(nuclei>0)[1],1]=255 \n",
    "    overlap_imape[np.where(gt_threshold>0)[0],np.where(gt_threshold>0)[1],2]=255 \n",
    "    \n",
    "    imsave('overlap/'+img_name.split('.')[0]+'_gt.png',gt_threshold.astype(np.uint8)*255)\n",
    "    imsave('overlap/'+img_name.split('.')[0]+'_overlap.png',(overlap_imape).astype(np.uint8))"
   ]
  },
  {
   "cell_type": "code",
   "execution_count": 55,
   "metadata": {},
   "outputs": [
    {
     "name": "stdout",
     "output_type": "stream",
     "text": [
      "u10_0.mat  u14_0.mat  u2_3.mat\tu3_2.mat  u5_0.mat  u6_1.mat  u7_2.mat\r\n",
      "u10_0.png  u14_0.png  u2_3.png\tu3_2.png  u5_0.png  u6_1.png  u7_2.png\r\n",
      "u1_3.mat   u16_0.mat  u3_1.mat\tu4_3.mat  u5_2.mat  u7_1.mat  u8_2.mat\r\n",
      "u1_3.png   u16_0.png  u3_1.png\tu4_3.png  u5_2.png  u7_1.png  u8_2.png\r\n"
     ]
    }
   ],
   "source": [
    "!ls hovernet/"
   ]
  },
  {
   "cell_type": "code",
   "execution_count": 80,
   "metadata": {},
   "outputs": [
    {
     "name": "stderr",
     "output_type": "stream",
     "text": [
      "Lossy conversion from int32 to uint8. Range [0, 724]. Convert image to uint8 prior to saving to suppress this warning.\n"
     ]
    },
    {
     "data": {
      "image/png": "[encoded data removed]",
      "text/plain": [
       "<Figure size 432x288 with 1 Axes>"
      ]
     },
     "metadata": {
      "needs_background": "light"
     },
     "output_type": "display_data"
    }
   ],
   "source": [
    "import scipy.io\n",
    "a=scipy.io.loadmat('hovernet/u8_2.mat')\n",
    "plt.imshow(a['inst_map'])\n",
    "imsave('hovernet/test_11.png',a['inst_map'])"
   ]
  },
  {
   "cell_type": "code",
   "execution_count": null,
   "metadata": {},
   "outputs": [],
   "source": []
  }
 ],
 "metadata": {
  "kernelspec": {
   "display_name": "Python 3",
   "language": "python",
   "name": "python3"
  },
  "language_info": {
   "codemirror_mode": {
    "name": "ipython",
    "version": 3
   },
   "file_extension": ".py",
   "mimetype": "text/x-python",
   "name": "python",
   "nbconvert_exporter": "python",
   "pygments_lexer": "ipython3",
   "version": "3.6.7"
  }
 },
 "nbformat": 4,
 "nbformat_minor": 2
}
