{
 "cells": [
  {
   "cell_type": "code",
   "execution_count": 1,
   "metadata": {},
   "outputs": [
    {
     "name": "stdout",
     "output_type": "stream",
     "text": [
      "The history saving thread hit an unexpected error (DatabaseError('database disk image is malformed',)).History will not be written to the database.\n"
     ]
    }
   ],
   "source": [
    "import matplotlib.pyplot as plt\n",
    "import os\n",
    "from tqdm import tqdm\n",
    "import skimage\n",
    "from skimage.io import imread,imsave\n",
    "from skimage.filters import threshold_otsu\n",
    "import numpy as np\n",
    "from skimage import morphology"
   ]
  },
  {
   "cell_type": "code",
   "execution_count": null,
   "metadata": {},
   "outputs": [],
   "source": [
    "def whole_dice_metric(y_pred,y_true):\n",
    "    smooth = 10e-16\n",
    "    # single image so just roll it out into a 1D array\n",
    "    \n",
    "    m1 =np.reshape(y_pred,(-1))/255\n",
    "    m2 =np.reshape(y_true,(-1))/255\n",
    "    \n",
    "    \n",
    "    intersection = (m1 * m2)\n",
    "\n",
    "    score = 2. * (np.sum(intersection) + smooth) / (np.sum(m1) +(np.sum(m2) + smooth))\n",
    "        \n",
    "    return score\n",
    "\n",
    "def multiple_erosion(img,iter=5):\n",
    "    for j in (range(5)):\n",
    "        img=morphology.binary_erosion(img, selem=morphology.selem.disk(1))\n",
    "    return img\n",
    "\n",
    "def multiple_dialte(img,iter=5):\n",
    "    for j in (range(5)):\n",
    "        img=morphology.binary_dilation(img, selem=morphology.selem.disk(1))\n",
    "    return img\n"
   ]
  },
  {
   "cell_type": "code",
   "execution_count": null,
   "metadata": {},
   "outputs": [],
   "source": [
    "\n",
    "img_list=os.listdir('prediction')\n",
    "avg=0\n",
    "for img_name in img_list:\n",
    "    img_pred=imread('prediction/'+img_name)\n",
    "    gt=imread('processed_data/nucleus_maps/'+img_name.split('.')[0].split('_')[1]+'_nucleus_mask.png')\n",
    "    thresh=threshold_otsu(img_pred)\n",
    "    img_pred=img_pred>thresh\n",
    "\n",
    "    dice=whole_dice_metric(img_pred.astype(np.float32)*255,gt)\n",
    "    avg+=dice\n",
    "    print(img_name.split('.')[0].split('_')[1],' : ',dice,thresh)\n",
    "print(avg/len(img_list))"
   ]
  },
  {
   "cell_type": "markdown",
   "metadata": {},
   "source": [
    "TCGA-E2-A14V-01Z-00-DX1  :  0.8225290612209419<br/>\n",
    "TCGA-21-5786-01Z-00-DX1  :  0.6991805205647318<br/>\n",
    "TCGA-21-5784-01Z-00-DX1  :  0.7702200475923103<br/>\n",
    "TCGA-B0-5710-01Z-00-DX1  :  0.7629844577597736<br/>\n",
    "TCGA-G2-A2EK-01A-02-TSB  :  0.7624224458621036<br/>\n",
    "TCGA-CH-5767-01Z-00-DX1  :  0.7970872142252329<br/>\n",
    "TCGA-RD-A8N9-01A-01-TS1  :  0.8176449329279959<br/>\n",
    "TCGA-G9-6348-01Z-00-DX1  :  0.7966429519738157<br/>\n",
    "TCGA-DK-A2I6-01A-01-TS1  :  0.8649618223341795<br/>\n",
    "TCGA-KB-A93J-01A-01-TS1  :  0.8129848869951398<br/>\n",
    "TCGA-AY-A8YK-01A-01-TS1  :  0.7642849375366202<br/>\n",
    "TCGA-E2-A1B5-01Z-00-DX1  :  0.7747906286441217<br/>\n",
    "TCGA-NH-A8F7-01A-01-TS1  :  0.7865019409500186<br/>\n",
    "TCGA-HE-7128-01Z-00-DX1  :  0.6759419369045772<br/>\n",
    "0.77915555610654<br/>\n",
    "# Model 30th Jan 2020 model_optim.pth\n",
    "TCGA-21-5784-01Z-00-DX1  :  0.8116361668301593 108<br/>\n",
    "TCGA-RD-A8N9-01A-01-TS1  :  0.8782868692362495 117<br/>\n",
    "TCGA-CH-5767-01Z-00-DX1  :  0.815197744362616 115<br/>\n",
    "TCGA-AY-A8YK-01A-01-TS1  :  0.7743249219687112 114<br/>\n",
    "TCGA-G2-A2EK-01A-02-TSB  :  0.7873815363001121 108<br/>\n",
    "TCGA-G9-6348-01Z-00-DX1  :  0.8273699189706346 112<br/>\n",
    "TCGA-KB-A93J-01A-01-TS1  :  0.8798372531910145 118<br/>\n",
    "TCGA-DK-A2I6-01A-01-TS1  :  0.883796541868124 115<br/>\n",
    "TCGA-21-5786-01Z-00-DX1  :  0.7315855593758265 111<br/>\n",
    "TCGA-E2-A14V-01Z-00-DX1  :  0.8599896627535161 113<br/>\n",
    "TCGA-NH-A8F7-01A-01-TS1  :  0.7949021136999774 113<br/>\n",
    "TCGA-E2-A1B5-01Z-00-DX1  :  0.802531826634244 110<br/>\n",
    "TCGA-HE-7128-01Z-00-DX1  :  0.788953461927371 105<br/>\n",
    "TCGA-B0-5710-01Z-00-DX1  :  0.828047288316124 109<br/>\n",
    "0.8188457761024771<br/>"
   ]
  },
  {
   "cell_type": "code",
   "execution_count": null,
   "metadata": {},
   "outputs": [],
   "source": [
    "\n",
    "img_list=os.listdir('prediction_CoNSeP')\n",
    "avg=0\n",
    "for img_name in img_list:\n",
    "    img_pred=imread('prediction_CoNSeP/'+img_name)\n",
    "    gt=np.load('other_data/CoNSeP/Test/Labels/'+'_'.join(img_name.split('_')[1:]).split('.')[0]+'.npy')[:,:,0]\n",
    "    gt=(gt>0).astype(np.uint8)*255\n",
    "    \n",
    "    thresh=threshold_otsu(img_pred)\n",
    "    img_pred=img_pred>thresh\n",
    "    imsave('prediction_CoNSeP/'+img_name.split('.')[0]+'_proc.png',img_pred.astype(np.float32))\n",
    "\n",
    "    dice=whole_dice_metric(img_pred.astype(np.float32)*255,gt)\n",
    "    avg+=dice\n",
    "    print(img_name.split('.')[0],' : ',dice,thresh)\n",
    "print(avg/len(img_list))"
   ]
  },
  {
   "cell_type": "code",
   "execution_count": 8,
   "metadata": {},
   "outputs": [
    {
     "name": "stderr",
     "output_type": "stream",
     "text": [
      "100%|██████████| 29/29 [00:04<00:00,  8.42it/s]\n"
     ]
    }
   ],
   "source": [
    "# # os.mkdir(\"kumar_he\")\n",
    "# import cv2\n",
    "# def convert_to_png(img_path):\n",
    "    \n",
    "#     img=cv2.imread(img_path,1)\n",
    "\n",
    "#     img_path=img_path.replace('Tissue_images','png_images')\n",
    "#     img_path=img_path.replace('.tif','.png')\n",
    "#     cv2.imwrite(img_path,img)\n",
    "    \n",
    "# #convet_to_png()   \n",
    "# for img in tqdm([x for x in os.listdir('Tissue_images/') if '.tif' in x][1:]):\n",
    "# #     print('Tissue_images/'+img.split('.')[0]+'.png')\n",
    "#     convert_to_png(os.path.join('Tissue_images',img))\n",
    "    "
   ]
  },
  {
   "cell_type": "code",
   "execution_count": null,
   "metadata": {},
   "outputs": [],
   "source": []
  }
 ],
 "metadata": {
  "kernelspec": {
   "display_name": "Python 3",
   "language": "python",
   "name": "python3"
  },
  "language_info": {
   "codemirror_mode": {
    "name": "ipython",
    "version": 3
   },
   "file_extension": ".py",
   "mimetype": "text/x-python",
   "name": "python",
   "nbconvert_exporter": "python",
   "pygments_lexer": "ipython3",
   "version": "3.6.7"
  }
 },
 "nbformat": 4,
 "nbformat_minor": 2
}
