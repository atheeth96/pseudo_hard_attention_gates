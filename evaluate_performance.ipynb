{
 "cells": [
  {
   "cell_type": "code",
   "execution_count": 15,
   "metadata": {},
   "outputs": [],
   "source": [
    "import matplotlib.pyplot as plt\n",
    "import os\n",
    "import skimage\n",
    "from skimage.io import imread,imsave\n",
    "from skimage.filters import threshold_otsu\n",
    "import numpy as np\n"
   ]
  },
  {
   "cell_type": "code",
   "execution_count": 16,
   "metadata": {},
   "outputs": [],
   "source": [
    "def whole_dice_metric(y_pred,y_true):\n",
    "    smooth = 10e-16\n",
    "    # single image so just roll it out into a 1D array\n",
    "    \n",
    "    m1 =np.reshape(y_pred,(-1))/255\n",
    "    m2 =np.reshape(y_true,(-1))/255\n",
    "    \n",
    "    \n",
    "    intersection = (m1 * m2)\n",
    "\n",
    "    score = 2. * (np.sum(intersection) + smooth) / (np.sum(m1) +(np.sum(m2) + smooth))\n",
    "        \n",
    "    return score"
   ]
  },
  {
   "cell_type": "code",
   "execution_count": 24,
   "metadata": {},
   "outputs": [
    {
     "name": "stdout",
     "output_type": "stream",
     "text": [
      "TCGA-E2-A14V-01Z-00-DX1  :  0.8333296281750119\n",
      "TCGA-21-5786-01Z-00-DX1  :  0.7201361766716904\n",
      "TCGA-21-5784-01Z-00-DX1  :  0.7638048712223855\n",
      "TCGA-B0-5710-01Z-00-DX1  :  0.7940773464459038\n",
      "TCGA-G2-A2EK-01A-02-TSB  :  0.762075211316198\n",
      "TCGA-CH-5767-01Z-00-DX1  :  0.7817884242122582\n",
      "TCGA-RD-A8N9-01A-01-TS1  :  0.8248413245090023\n",
      "TCGA-G9-6348-01Z-00-DX1  :  0.7923000165947918\n",
      "TCGA-DK-A2I6-01A-01-TS1  :  0.8673273565170285\n",
      "TCGA-KB-A93J-01A-01-TS1  :  0.8257282747761047\n",
      "TCGA-AY-A8YK-01A-01-TS1  :  0.7633746834126345\n",
      "TCGA-E2-A1B5-01Z-00-DX1  :  0.7655227486515934\n",
      "TCGA-NH-A8F7-01A-01-TS1  :  0.7900778338393527\n",
      "TCGA-HE-7128-01Z-00-DX1  :  0.7047852115651219\n",
      "0.7849406505649341\n"
     ]
    }
   ],
   "source": [
    "\n",
    "img_list=os.listdir('prediction')\n",
    "avg=0\n",
    "for img_name in img_list:\n",
    "    img_pred=imread('prediction/'+img_name)\n",
    "    gt=imread('processed_data/nucleus_maps/'+img_name.split('.')[0].split('_')[1]+'_nucleus_mask.png')\n",
    "    thresh=threshold_otsu(img_pred)\n",
    "    img_pred=img_pred>thresh\n",
    "    dice=whole_dice_metric(img_pred.astype(np.float32)*255,gt)\n",
    "    avg+=dice\n",
    "    print(img_name.split('.')[0].split('_')[1],' : ',dice)\n",
    "print(avg/len(img_list))"
   ]
  }
 ],
 "metadata": {
  "kernelspec": {
   "display_name": "Python 3",
   "language": "python",
   "name": "python3"
  },
  "language_info": {
   "codemirror_mode": {
    "name": "ipython",
    "version": 3
   },
   "file_extension": ".py",
   "mimetype": "text/x-python",
   "name": "python",
   "nbconvert_exporter": "python",
   "pygments_lexer": "ipython3",
   "version": "3.6.7"
  }
 },
 "nbformat": 4,
 "nbformat_minor": 2
}
